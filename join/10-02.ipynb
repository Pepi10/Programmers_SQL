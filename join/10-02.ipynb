{
 "cells": [
  {
   "cell_type": "markdown",
   "metadata": {},
   "source": [
    "### 문제\n",
    "\n",
    "* PRODUCT 테이블과 OFFLINE_SALE 테이블에서 상품코드 별 매출액(판매가 * 판매량) 합계를 출력하는 SQL문을 작성해주세요. 결과는 매출액을 기준으로 내림차순 정렬해주시고 매출액이 같다면 상품코드를 기준으로 오름차순 정렬해주세요."
   ]
  },
  {
   "cell_type": "markdown",
   "metadata": {},
   "source": [
    "__MYSQL__\n",
    "\n",
    "```SQL\n",
    "\n",
    "SELECT\n",
    "    PRODUCT_CODE,\n",
    "    (PRICE * SUM(T1.SALES_AMOUNT)) AS SALES\n",
    "FROM OFFLINE_SALE T1\n",
    "JOIN PRODUCT T2\n",
    "    ON T1.PRODUCT_ID = T2.PRODUCT_ID\n",
    "GROUP BY\n",
    "    PRODUCT_CODE\n",
    "ORDER BY\n",
    "    SALES DESC,\n",
    "    PRODUCT_CODE ASC\n",
    ";\n",
    "\n",
    "```"
   ]
  }
 ],
 "metadata": {
  "language_info": {
   "name": "python"
  }
 },
 "nbformat": 4,
 "nbformat_minor": 2
}
