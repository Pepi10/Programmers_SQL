{
 "cells": [
  {
   "cell_type": "markdown",
   "metadata": {},
   "source": [
    "### 문제\n",
    "\n",
    "* DEVELOPERS 테이블에서 Front End 스킬을 가진 개발자의 정보를 조회하려 합니다. 조건에 맞는 개발자의 ID, 이메일, 이름, 성을 조회하는 SQL 문을 작성해 주세요.\n",
    "\n",
    "* 결과는 ID를 기준으로 오름차순 정렬해 주세요."
   ]
  },
  {
   "cell_type": "markdown",
   "metadata": {},
   "source": [
    "__MYSQL__\n",
    "\n",
    "```SQL\n",
    "\n",
    "SELECT DISTINCT\n",
    "    ID,\n",
    "    EMAIL,\n",
    "    FIRST_NAME,\n",
    "    LAST_NAME\n",
    "FROM DEVELOPERS T1\n",
    "JOIN SKILLCODES T2\n",
    "    ON T1.SKILL_CODE & T2.CODE\n",
    "WHERE\n",
    "    CATEGORY LIKE '%Fro%'\n",
    "ORDER BY\n",
    "    ID ASC\n",
    ";\n",
    "\n",
    "```"
   ]
  }
 ],
 "metadata": {
  "language_info": {
   "name": "python"
  }
 },
 "nbformat": 4,
 "nbformat_minor": 2
}
