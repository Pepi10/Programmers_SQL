{
 "cells": [
  {
   "cell_type": "markdown",
   "metadata": {},
   "source": [
    "### 문제\n",
    "\n",
    "* '경제' 카테고리에 속하는 도서들의 도서 ID(BOOK_ID), 저자명(AUTHOR_NAME), 출판일(PUBLISHED_DATE) 리스트를 출력하는 SQL문을 작성해주세요.\n",
    "* 결과는 출판일을 기준으로 오름차순 정렬해주세요."
   ]
  },
  {
   "cell_type": "markdown",
   "metadata": {},
   "source": [
    "__MYSQL__\n",
    "\n",
    "```SQL\n",
    "\n",
    "SELECT\n",
    "    BOOK_ID,\n",
    "    AUTHOR_NAME,\n",
    "    DATE_FORMAT(PUBLISHED_DATE, '%Y-%m-%d') AS PUBLISHED_DATE\n",
    "FROM BOOK\n",
    "JOIN AUTHOR\n",
    "    ON BOOK.AUTHOR_ID = AUTHOR.AUTHOR_ID\n",
    "WHERE\n",
    "    CATEGORY LIKE '%경제%'\n",
    "ORDER BY\n",
    "    PUBLISHED_DATE ASC\n",
    ";\n",
    "\n",
    "```"
   ]
  }
 ],
 "metadata": {
  "language_info": {
   "name": "python"
  }
 },
 "nbformat": 4,
 "nbformat_minor": 2
}
