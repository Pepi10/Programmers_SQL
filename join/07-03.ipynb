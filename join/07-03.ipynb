{
 "cells": [
  {
   "cell_type": "markdown",
   "metadata": {},
   "source": [
    "### 문제\n",
    "\n",
    "* 관리자의 실수로 일부 동물의 입양일이 잘못 입력되었습니다. 보호 시작일보다 입양일이 더 빠른 동물의 아이디와 이름을 조회하는 SQL문을 작성해주세요. 이때 결과는 보호 시작일이 빠른 순으로 조회해야합니다."
   ]
  },
  {
   "cell_type": "markdown",
   "metadata": {},
   "source": [
    "__MYSQL__\n",
    "\n",
    "```SQL\n",
    "\n",
    "SELECT\n",
    "    T1.ANIMAL_ID,\n",
    "    T1.NAME\n",
    "FROM ANIMAL_INS T1\n",
    "JOIN ANIMAL_OUTS T2\n",
    "    ON T1.ANIMAL_ID = T2.ANIMAL_ID\n",
    "WHERE\n",
    "    T1.DATETIME > T2.DATETIME\n",
    "ORDER BY\n",
    "    T1.DATETIME ASC\n",
    ";\n",
    "\n",
    "```"
   ]
  }
 ],
 "metadata": {
  "language_info": {
   "name": "python"
  }
 },
 "nbformat": 4,
 "nbformat_minor": 2
}
