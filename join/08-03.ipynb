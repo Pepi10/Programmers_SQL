{
 "cells": [
  {
   "cell_type": "markdown",
   "metadata": {},
   "source": [
    "### 문제\n",
    "\n",
    "* 아직 입양을 못 간 동물 중, 가장 오래 보호소에 있었던 동물 3마리의 이름과 보호 시작일을 조회하는 SQL문을 작성해주세요. 이때 결과는 보호 시작일 순으로 조회해야 합니다."
   ]
  },
  {
   "cell_type": "markdown",
   "metadata": {},
   "source": [
    "__MYSQL__\n",
    "\n",
    "```SQL\n",
    "\n",
    "SELECT\n",
    "    T1.NAME,\n",
    "    T1.DATETIME\n",
    "FROM ANIMAL_INS T1\n",
    "LEFT JOIN ANIMAL_OUTS T2\n",
    "    ON T1.ANIMAL_ID = T2.ANIMAL_ID\n",
    "WHERE\n",
    "    T2.ANIMAL_ID IS NULL\n",
    "ORDER BY\n",
    "    T1.DATETIME ASC\n",
    "LIMIT 3\n",
    ";\n",
    "\n",
    "```"
   ]
  }
 ],
 "metadata": {
  "language_info": {
   "name": "python"
  }
 },
 "nbformat": 4,
 "nbformat_minor": 2
}
