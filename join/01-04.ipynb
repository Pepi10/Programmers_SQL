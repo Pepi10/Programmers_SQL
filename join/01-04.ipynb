{
 "cells": [
  {
   "cell_type": "markdown",
   "metadata": {},
   "source": [
    "### 문제\n",
    "\n",
    "* 7월 아이스크림 총 주문량과 상반기의 아이스크림 총 주문량을 더한 값이 큰 순서대로 상위 3개의 맛을 조회하는 SQL 문을 작성해주세요."
   ]
  },
  {
   "cell_type": "markdown",
   "metadata": {},
   "source": [
    "__MYSQL__\n",
    "\n",
    "```SQL\n",
    "\n",
    "SELECT\n",
    "    T1.FLAVOR\n",
    "FROM FIRST_HALF T1\n",
    "JOIN JULY T2\n",
    "    ON T1.FLAVOR = T2.FLAVOR\n",
    "GROUP BY\n",
    "    T1.FLAVOR\n",
    "ORDER BY\n",
    "    SUM(T1.TOTAL_ORDER) + SUM(T2.TOTAL_ORDER) DESC\n",
    "LIMIT 3\n",
    ";\n",
    "\n",
    "```"
   ]
  }
 ],
 "metadata": {
  "language_info": {
   "name": "python"
  }
 },
 "nbformat": 4,
 "nbformat_minor": 2
}
