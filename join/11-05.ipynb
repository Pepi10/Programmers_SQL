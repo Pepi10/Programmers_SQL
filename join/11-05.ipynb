{
 "cells": [
  {
   "cell_type": "markdown",
   "metadata": {},
   "source": [
    "### 문제\n",
    "\n",
    "* USER_INFO 테이블과 ONLINE_SALE 테이블에서 2021년에 가입한 전체 회원들 중 상품을 구매한 회원수와 상품을 구매한 회원의 비율(=2021년에 가입한 회원 중 상품을 구매한 회원수 / 2021년에 가입한 전체 회원 수)을 년, 월 별로 출력하는 SQL문을 작성해주세요. 상품을 구매한 회원의 비율은 소수점 두번째자리에서 반올림하고, 전체 결과는 년을 기준으로 오름차순 정렬해주시고 년이 같다면 월을 기준으로 오름차순 정렬해주세요."
   ]
  },
  {
   "cell_type": "markdown",
   "metadata": {
    "vscode": {
     "languageId": "sql"
    }
   },
   "source": [
    "__MYSQL__\n",
    "\n",
    "```SQL\n",
    "\n",
    "WITH JOIN_2021 AS (\n",
    "    SELECT USER_ID\n",
    "    FROM USER_INFO\n",
    "    WHERE\n",
    "        YEAR(JOINED) = 2021\n",
    "),\n",
    "    PURCHASED AS (\n",
    "    SELECT\n",
    "        YEAR(SALES_DATE) AS YEAR,\n",
    "        MONTH(SALES_DATE) AS MONTH,\n",
    "        COUNT(DISTINCT USER_ID) AS PURCHASED_USERS\n",
    "    FROM ONLINE_SALE\n",
    "    WHERE\n",
    "        USER_ID IN (\n",
    "            SELECT *\n",
    "            FROM JOIN_2021\n",
    "        )\n",
    "    GROUP BY\n",
    "        YEAR(SALES_DATE),\n",
    "        MONTH(SALES_DATE)\n",
    ")\n",
    "\n",
    "SELECT\n",
    "    *,\n",
    "    ROUND(PURCHASED_USERS\n",
    "    /\n",
    "    (SELECT COUNT(DISTINCT USER_ID)\n",
    "     FROM JOIN_2021), 1)\n",
    "     AS PURCHASED_RATIO\n",
    "FROM PURCHASED\n",
    "ORDER BY\n",
    "    YEAR ASC,\n",
    "    MONTH ASC\n",
    ";\n",
    "\n",
    "```"
   ]
  }
 ],
 "metadata": {
  "kernelspec": {
   "display_name": "pepi10",
   "language": "python",
   "name": "python3"
  },
  "language_info": {
   "codemirror_mode": {
    "name": "ipython",
    "version": 3
   },
   "file_extension": ".py",
   "mimetype": "text/x-python",
   "name": "python",
   "nbconvert_exporter": "python",
   "pygments_lexer": "ipython3",
   "version": "3.7.12"
  }
 },
 "nbformat": 4,
 "nbformat_minor": 2
}
