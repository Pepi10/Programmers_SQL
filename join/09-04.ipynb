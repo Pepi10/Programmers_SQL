{
 "cells": [
  {
   "cell_type": "markdown",
   "metadata": {},
   "source": [
    "### 문제\n",
    "\n",
    "* 보호소에서 중성화 수술을 거친 동물 정보를 알아보려 합니다. 보호소에 들어올 당시에는 중성화1되지 않았지만, 보호소를 나갈 당시에는 중성화된 동물의 아이디와 생물 종, 이름을 조회하는 아이디 순으로 조회하는 SQL 문을 작성해주세요."
   ]
  },
  {
   "cell_type": "markdown",
   "metadata": {},
   "source": [
    "__MYSQL__\n",
    "\n",
    "```SQL\n",
    "\n",
    "SELECT\n",
    "    T1.ANIMAL_ID,\n",
    "    T1.ANIMAL_TYPE,\n",
    "    T1.NAME\n",
    "FROM ANIMAL_INS T1\n",
    "JOIN ANIMAL_OUTS T2\n",
    "    ON T1.ANIMAL_ID = T2.ANIMAL_ID\n",
    "WHERE \n",
    "    T1.SEX_UPON_INTAKE LIKE '%Intact%'\n",
    "    AND T2.SEX_UPON_OUTCOME LIKE '%Spayed%' \n",
    "    OR\n",
    "    T1.SEX_UPON_INTAKE LIKE '%Intact%'\n",
    "    AND T2.SEX_UPON_OUTCOME LIKE '%Neutered%'\n",
    "\n",
    "```"
   ]
  }
 ],
 "metadata": {
  "language_info": {
   "name": "python"
  }
 },
 "nbformat": 4,
 "nbformat_minor": 2
}
