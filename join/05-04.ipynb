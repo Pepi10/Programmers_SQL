{
 "cells": [
  {
   "cell_type": "markdown",
   "metadata": {},
   "source": [
    "### 문제\n",
    "\n",
    "* MEMBER_PROFILE와 REST_REVIEW 테이블에서 리뷰를 가장 많이 작성한 회원의 리뷰들을 조회하는 SQL문을 작성해주세요. 회원 이름, 리뷰 텍스트, 리뷰 작성일이 출력되도록 작성해주시고, 결과는 리뷰 작성일을 기준으로 오름차순, 리뷰 작성일이 같다면 리뷰 텍스트를 기준으로 오름차순 정렬해주세요."
   ]
  },
  {
   "cell_type": "markdown",
   "metadata": {},
   "source": [
    "__MYSQL__\n",
    "\n",
    "```SQL\n",
    "\n",
    "WITH MAX_REVIEW AS (\n",
    "    SELECT \n",
    "        MEMBER_ID,\n",
    "        COUNT(*) AS COUNT\n",
    "    FROM REST_REVIEW\n",
    "    GROUP BY \n",
    "        MEMBER_ID\n",
    ")\n",
    "SELECT\n",
    "    MEMBER_NAME,\n",
    "    REVIEW_TEXT,\n",
    "    DATE_FORMAT(REVIEW_DATE, '%Y-%m-%d') AS REVIEW_DATE\n",
    "FROM MEMBER_PROFILE T1\n",
    "JOIN REST_REVIEW T2\n",
    "    ON T1.MEMBER_ID = T2.MEMBER_ID\n",
    "WHERE\n",
    "    T2.MEMBER_ID IN (\n",
    "        SELECT \n",
    "            MEMBER_ID\n",
    "        FROM REST_REVIEW\n",
    "        GROUP BY MEMBER_ID\n",
    "        HAVING\n",
    "            COUNT(*) =             \n",
    "                (\n",
    "            SELECT\n",
    "                MAX(COUNT)\n",
    "            FROM MAX_REVIEW\n",
    "    )\n",
    ")\n",
    "ORDER BY\n",
    "    REVIEW_DATE ASC,\n",
    "    REVIEW_TEXT ASC\n",
    ";\n",
    "\n",
    "```"
   ]
  }
 ],
 "metadata": {
  "language_info": {
   "name": "python"
  }
 },
 "nbformat": 4,
 "nbformat_minor": 2
}
