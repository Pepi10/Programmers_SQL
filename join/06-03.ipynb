{
 "cells": [
  {
   "cell_type": "markdown",
   "metadata": {},
   "source": [
    "### 문제\n",
    "\n",
    "* 천재지변으로 인해 일부 데이터가 유실되었습니다. 입양을 간 기록은 있는데, 보호소에 들어온 기록이 없는 동물의 ID와 이름을 ID 순으로 조회하는 SQL문을 작성해주세요.\n",
    "\n"
   ]
  },
  {
   "cell_type": "markdown",
   "metadata": {},
   "source": [
    "__MYSQL__\n",
    "\n",
    "```SQL\n",
    "\n",
    "SELECT\n",
    "    T1.ANIMAL_ID,\n",
    "    T1.NAME\n",
    "FROM ANIMAL_OUTS T1\n",
    "LEFT JOIN ANIMAL_INS T2\n",
    "    ON T1.ANIMAL_ID = T2.ANIMAL_ID\n",
    "WHERE\n",
    "    T2.ANIMAL_ID IS NULL\n",
    "    AND T2.NAME IS NULL\n",
    "ORDER BY\n",
    "    T1.ANIMAL_ID ASC\n",
    ";\n",
    "\n",
    "```"
   ]
  }
 ],
 "metadata": {
  "language_info": {
   "name": "python"
  }
 },
 "nbformat": 4,
 "nbformat_minor": 2
}
