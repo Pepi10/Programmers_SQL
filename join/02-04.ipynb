{
 "cells": [
  {
   "cell_type": "markdown",
   "metadata": {},
   "source": [
    "### 문제\n",
    "\n",
    "* FOOD_PRODUCT와 FOOD_ORDER 테이블에서 생산일자가 2022년 5월인 식품들의 식품 ID, 식품 이름, 총매출을 조회하는 SQL문을 작성해주세요. 이때 결과는 총매출을 기준으로 내림차순 정렬해주시고 총매출이 같다면 식품 ID를 기준으로 오름차순 정렬해주세요."
   ]
  },
  {
   "cell_type": "markdown",
   "metadata": {},
   "source": [
    "__MYSQL__\n",
    "\n",
    "```SQL\n",
    "\n",
    "SELECT\n",
    "    T1.PRODUCT_ID,\n",
    "    T1.PRODUCT_NAME,\n",
    "    SUM(T1.PRICE * T2.AMOUNT) AS TOTAL_SALES\n",
    "FROM FOOD_PRODUCT T1\n",
    "LEFT JOIN FOOD_ORDER T2\n",
    "    ON T1.PRODUCT_ID = T2.PRODUCT_ID\n",
    "WHERE\n",
    "    YEAR(T2.PRODUCE_DATE) = 2022\n",
    "    AND MONTH(T2.PRODUCE_DATE) = 05\n",
    "GROUP BY\n",
    "    T1.PRODUCT_ID,\n",
    "    T1.PRODUCT_NAME\n",
    "ORDER BY\n",
    "    TOTAL_SALES DESC,\n",
    "    PRODUCT_ID ASC\n",
    ";\n",
    "\n",
    "```"
   ]
  }
 ],
 "metadata": {
  "language_info": {
   "name": "python"
  }
 },
 "nbformat": 4,
 "nbformat_minor": 2
}
