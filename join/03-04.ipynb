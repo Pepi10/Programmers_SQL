{
 "cells": [
  {
   "cell_type": "markdown",
   "metadata": {},
   "source": [
    "### 문제\n",
    "\n",
    "* CAR_RENTAL_COMPANY_CAR 테이블과 CAR_RENTAL_COMPANY_RENTAL_HISTORY 테이블과 CAR_RENTAL_COMPANY_DISCOUNT_PLAN 테이블에서 자동차 종류가 '세단' 또는 'SUV' 인 자동차 중 2022년 11월 1일부터 2022년 11월 30일까지 대여 가능하고 30일간의 대여 금액이 50만원 이상 200만원 미만인 자동차에 대해서 자동차 ID, 자동차 종류, 대여 금액(컬럼명: FEE) 리스트를 출력하는 SQL문을 작성해주세요. 결과는 대여 금액을 기준으로 내림차순 정렬하고, 대여 금액이 같은 경우 자동차 종류를 기준으로 오름차순 정렬, 자동차 종류까지 같은 경우 자동차 ID를 기준으로 내림차순 정렬해주세요."
   ]
  },
  {
   "cell_type": "markdown",
   "metadata": {},
   "source": [
    "__MYSQL__\n",
    "\n",
    "```SQL\n",
    "\n",
    "WITH EXCEPT_LIST AS (\n",
    "    SELECT DISTINCT CAR_ID\n",
    "    FROM \n",
    "        CAR_RENTAL_COMPANY_RENTAL_HISTORY \n",
    "    WHERE \n",
    "        DATE_FORMAT(END_DATE, '%Y-%m') LIKE '2022-11' \n",
    "        OR DATE_FORMAT(END_DATE, '%Y-%m') LIKE '2022-11' \n",
    "        OR (START_DATE < '2022-11-01' AND END_DATE > '2022-11-30')\n",
    "),\n",
    "    DIS_RATIO AS (\n",
    "    SELECT\n",
    "        CAR_TYPE,\n",
    "        ROUND((100 - DISCOUNT_RATE) / 100, 2) AS DIS\n",
    "    FROM CAR_RENTAL_COMPANY_DISCOUNT_PLAN \n",
    "    WHERE\n",
    "        CAR_TYPE = '세단'\n",
    "        AND DURATION_TYPE LIKE '%30일%'\n",
    "        OR\n",
    "        CAR_TYPE = 'SUV'\n",
    "        AND DURATION_TYPE LIKE '%30일%'\n",
    ")\n",
    "    \n",
    "SELECT\n",
    "    CAR_ID,\n",
    "    T1.CAR_TYPE,\n",
    "    ROUND(DAILY_FEE * DIS * 30, 0) AS FEE\n",
    "FROM CAR_RENTAL_COMPANY_CAR T1\n",
    "JOIN DIS_RATIO T2\n",
    "    ON T1.CAR_TYPE = T2.CAR_TYPE\n",
    "WHERE\n",
    "    DAILY_FEE * DIS * 30 < 2000000 \n",
    "    AND DAILY_FEE * DIS * 30 >= 500000\n",
    "    AND CAR_ID NOT IN (\n",
    "        SELECT CAR_ID\n",
    "        FROM EXCEPT_LIST)\n",
    "ORDER BY \n",
    "    FEE DESC,\n",
    "    T1.CAR_TYPE ASC,\n",
    "    T1.CAR_ID DESC\n",
    ";\n",
    "\n",
    "```"
   ]
  }
 ],
 "metadata": {
  "language_info": {
   "name": "python"
  }
 },
 "nbformat": 4,
 "nbformat_minor": 2
}
