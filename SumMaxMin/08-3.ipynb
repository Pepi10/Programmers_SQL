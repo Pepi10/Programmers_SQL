{
 "cells": [
  {
   "cell_type": "markdown",
   "metadata": {},
   "source": [
    "### 문제\n",
    "\n",
    "* 물고기 종류 별로 가장 큰 물고기의 ID, 물고기 이름, 길이를 출력하는 SQL 문을 작성해주세요.\n",
    "물고기의 ID 컬럼명은 ID, 이름 컬럼명은 FISH_NAME, 길이 컬럼명은 LENGTH로 해주세요.\n",
    "결과는 물고기의 ID에 대해 오름차순 정렬해주세요.\n",
    "단, 물고기 종류별 가장 큰 물고기는 1마리만 있으며 10cm 이하의 물고기가 가장 큰 경우는 없습니다."
   ]
  },
  {
   "cell_type": "markdown",
   "metadata": {},
   "source": [
    "__MYSQL__\n",
    "\n",
    "```SQL\n",
    "\n",
    "WITH MAX_LENGTH_PER_TYPE AS (\n",
    "    SELECT\n",
    "        FISH_TYPE,   \n",
    "        MAX(LENGTH) AS MAX_LENGTH\n",
    "    FROM\n",
    "        FISH_INFO\n",
    "    GROUP BY\n",
    "        FISH_TYPE\n",
    ")\n",
    "SELECT\n",
    "    T1.ID,\n",
    "    T2.FISH_NAME,\n",
    "    T1.LENGTH\n",
    "FROM\n",
    "    FISH_INFO T1\n",
    "JOIN FISH_NAME_INFO T2\n",
    "    ON T1.FISH_TYPE = T2.FISH_TYPE\n",
    "JOIN MAX_LENGTH_PER_TYPE T3\n",
    "    ON T1.FISH_TYPE = T3.FISH_TYPE \n",
    "    AND T1.LENGTH = T3.MAX_LENGTH\n",
    "ORDER BY\n",
    "    T1.ID ASC;\n",
    "\n",
    "```"
   ]
  }
 ],
 "metadata": {
  "language_info": {
   "name": "python"
  }
 },
 "nbformat": 4,
 "nbformat_minor": 2
}
