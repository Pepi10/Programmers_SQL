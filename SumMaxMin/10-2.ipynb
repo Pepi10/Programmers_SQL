{
 "cells": [
  {
   "cell_type": "markdown",
   "metadata": {},
   "source": [
    "### 문제\n",
    "\n",
    "* 분화된 연도(YEAR), 분화된 연도별 대장균 크기의 편차(YEAR_DEV), 대장균 개체의 ID(ID) 를 출력하는 SQL 문을 작성해주세요. 분화된 연도별 대장균 크기의 편차는 분화된 연도별 가장 큰 대장균의 크기 - 각 대장균의 크기로 구하며 결과는 연도에 대해 오름차순으로 정렬하고 같은 연도에 대해서는 대장균 크기의 편차에 대해 오름차순으로 정렬해주세요."
   ]
  },
  {
   "cell_type": "markdown",
   "metadata": {},
   "source": [
    "__MYSQL__\n",
    "\n",
    "```SQL\n",
    "\n",
    "WITH MAX_SIZE_PER_YEAR AS (\n",
    "    SELECT\n",
    "        DATE_FORMAT(DIFFERENTIATION_DATE, '%Y') AS YEAR,\n",
    "        MAX(SIZE_OF_COLONY) AS MAX_SIZE\n",
    "    FROM\n",
    "        ECOLI_DATA\n",
    "    GROUP BY YEAR\n",
    ")\n",
    "SELECT\n",
    "    DATE_FORMAT(T1.DIFFERENTIATION_DATE, '%Y') AS YEAR,\n",
    "    (T2.MAX_SIZE - SIZE_OF_COLONY) AS YEAR_DEV,\n",
    "    T1.ID    \n",
    "FROM \n",
    "    ECOLI_DATA T1\n",
    "JOIN MAX_SIZE_PER_YEAR T2\n",
    "    ON YEAR(T1.DIFFERENTIATION_DATE) = T2.YEAR\n",
    "ORDER BY\n",
    "    YEAR ASC,\n",
    "    YEAR_DEV ASC;\n",
    "\n",
    "```"
   ]
  },
  {
   "cell_type": "markdown",
   "metadata": {},
   "source": [
    "__DATETIME -> STRING 문제 오류 해결__\n",
    "\n",
    "```SQL\n",
    "\n",
    "WITH MAX_SIZE_PER_YEAR AS (\n",
    "    SELECT\n",
    "        YEAR(DIFFERENTIATION_DATE) AS YEAR,\n",
    "        MAX(SIZE_OF_COLONY) AS MAX_SIZE\n",
    "    FROM\n",
    "        ECOLI_DATA\n",
    "    GROUP BY YEAR\n",
    ")\n",
    "SELECT\n",
    "    YEAR(T1.DIFFERENTIATION_DATE) AS YEAR,\n",
    "    (T2.MAX_SIZE - T1.SIZE_OF_COLONY) AS YEAR_DEV,\n",
    "    T1.ID\n",
    "FROM\n",
    "    ECOLI_DATA T1\n",
    "JOIN MAX_SIZE_PER_YEAR T2\n",
    "    ON YEAR(T1.DIFFERENTIATION_DATE) = T2.YEAR\n",
    "ORDER BY\n",
    "    YEAR ASC,\n",
    "    YEAR_DEV ASC;\n",
    "\n",
    "```"
   ]
  }
 ],
 "metadata": {
  "kernelspec": {
   "display_name": "base",
   "language": "python",
   "name": "python3"
  },
  "language_info": {
   "codemirror_mode": {
    "name": "ipython",
    "version": 3
   },
   "file_extension": ".py",
   "mimetype": "text/x-python",
   "name": "python",
   "nbconvert_exporter": "python",
   "pygments_lexer": "ipython3",
   "version": "3.11.7"
  }
 },
 "nbformat": 4,
 "nbformat_minor": 2
}
