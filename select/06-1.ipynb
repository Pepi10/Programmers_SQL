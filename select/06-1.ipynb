{
 "cells": [
  {
   "cell_type": "markdown",
   "metadata": {},
   "source": [
    "### 문제\n",
    "* DOCTOR 테이블에서 진료과가 흉부외과(CS)이거나 일반외과(GS)인 의사의 이름, 의사ID, 진료과, 고용일자를 조회하는 SQL문을 작성해주세요. 이때 결과는 고용일자를 기준으로 내림차순 정렬하고, 고용일자가 같다면 이름을 기준으로 오름차순 정렬해주세요."
   ]
  },
  {
   "cell_type": "markdown",
   "metadata": {},
   "source": [
    "__MYSQL__\n",
    "\n",
    "```SQL\n",
    "\n",
    "SELECT\n",
    "    DR_NAME,\n",
    "    DR_ID,\n",
    "    MCDP_CD,\n",
    "    DATE_FORMAT(HIRE_YMD, '%Y-%m-%d') AS HIRE_YMD\n",
    "FROM DOCTOR\n",
    "WHERE MCDP_CD = 'CS' OR MCDP_CD = 'GS'\n",
    "ORDER BY \n",
    "    HIRE_YMD DESC,\n",
    "    DR_NAME ASC;\n",
    "\n",
    "```"
   ]
  },
  {
   "cell_type": "markdown",
   "metadata": {},
   "source": [
    "__ORACLE__\n",
    "\n",
    "```SQL\n",
    "\n",
    "SELECT\n",
    "    DR_NAME,\n",
    "    DR_ID,\n",
    "    MCDP_CD,\n",
    "    TO_CHAR(HIRE_YMD, 'YYYY-mm-dd') AS HIRE_YMD\n",
    "FROM DOCTOR\n",
    "WHERE \n",
    "    MCDP_CD = 'CS' OR MCDP_CD = 'GS'\n",
    "ORDER BY\n",
    "    HIRE_YMD DESC,\n",
    "    DR_NAME ASC;\n",
    "\n",
    "```"
   ]
  }
 ],
 "metadata": {
  "language_info": {
   "name": "python"
  }
 },
 "nbformat": 4,
 "nbformat_minor": 2
}
