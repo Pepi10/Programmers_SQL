{
 "cells": [
  {
   "cell_type": "markdown",
   "metadata": {},
   "source": [
    "### 문제\n",
    "\n",
    "* FISH_INFO 테이블에서 가장 큰 물고기 10마리의 ID와 길이를 출력하는 SQL 문을 작성해주세요. 결과는 길이를 기준으로 내림차순 정렬하고, 길이가 같다면 물고기의 ID에 대해 오름차순 정렬해주세요. 단, 가장 큰 물고기 10마리 중 길이가 10cm 이하인 경우는 없습니다.\n",
    "ID 컬럼명은 ID, 길이 컬럼명은 LENGTH로 해주세요."
   ]
  },
  {
   "cell_type": "markdown",
   "metadata": {},
   "source": [
    "__MYSQL__\n",
    "\n",
    "```SQL\n",
    "\n",
    "SELECT\n",
    "    ID,\n",
    "    LENGTH\n",
    "FROM \n",
    "    FISH_INFO\n",
    "ORDER BY\n",
    "    LENGTH DESC,\n",
    "    ID ASC\n",
    "LIMIT 10;\n",
    "\n",
    "```"
   ]
  }
 ],
 "metadata": {
  "kernelspec": {
   "display_name": "kdt7",
   "language": "python",
   "name": "python3"
  },
  "language_info": {
   "name": "python",
   "version": "3.11.5"
  }
 },
 "nbformat": 4,
 "nbformat_minor": 2
}
