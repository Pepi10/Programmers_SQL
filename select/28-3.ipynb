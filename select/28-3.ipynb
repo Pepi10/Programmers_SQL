{
 "cells": [
  {
   "cell_type": "markdown",
   "metadata": {},
   "source": [
    "### 문제\n",
    "\n",
    "* 대장균 개체의 크기가 100 이하라면 'LOW', 100 초과 1000 이하라면 'MEDIUM', 1000 초과라면 'HIGH' 라고 분류합니다. 대장균 개체의 ID(ID) 와 분류(SIZE)를 출력하는 SQL 문을 작성해주세요.이때 결과는 개체의 ID 에 대해 오름차순 정렬해주세요."
   ]
  },
  {
   "cell_type": "markdown",
   "metadata": {},
   "source": [
    "__MYSQL__\n",
    "\n",
    "```SQL\n",
    "\n",
    "SELECT\n",
    "    ID,\n",
    "    CASE\n",
    "        WHEN SIZE_OF_COLONY <= 100 THEN 'LOW'\n",
    "        WHEN SIZE_OF_COLONY BETWEEN 101 AND 1000 THEN 'MEDIUM'\n",
    "        ELSE 'HIGH'\n",
    "    END AS SIZE\n",
    "FROM \n",
    "    ECOLI_DATA\n",
    "ORDER BY\n",
    "    ID ASC;\n",
    "\n",
    "```"
   ]
  }
 ],
 "metadata": {
  "language_info": {
   "name": "python"
  }
 },
 "nbformat": 4,
 "nbformat_minor": 2
}
