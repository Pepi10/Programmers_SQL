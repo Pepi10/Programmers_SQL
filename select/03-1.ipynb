{
 "cells": [
  {
   "cell_type": "markdown",
   "metadata": {},
   "source": [
    "### 문제\n",
    "\n",
    "* PATIENT 테이블에서 12세 이하인 여자환자의 환자이름, 환자번호, 성별코드, 나이, 전화번호를 조회하는 SQL문을 작성해주세요. 이때 전화번호가 없는 경우, 'NONE'으로 출력시켜 주시고 결과는 나이를 기준으로 내림차순 정렬하고, 나이 같다면 환자이름을 기준으로 오름차순 정렬해주세요."
   ]
  },
  {
   "cell_type": "markdown",
   "metadata": {},
   "source": [
    "__MYSQL__\n",
    "\n",
    "```SQL\n",
    "\n",
    "SELECT \n",
    "    PT_NAME,\n",
    "    PT_NO,\n",
    "    GEND_CD,\n",
    "    AGE,\n",
    "    COALESCE(TLNO, 'NONE') AS TLNO\n",
    "FROM \n",
    "    PATIENT\n",
    "WHERE \n",
    "    AGE <= 12\n",
    "    AND GEND_CD = 'W'\n",
    "ORDER BY \n",
    "    AGE DESC,\n",
    "    PT_NAME ASC;\n",
    "\n",
    "```"
   ]
  },
  {
   "cell_type": "markdown",
   "metadata": {},
   "source": [
    "__ORACLE__\n",
    "\n",
    "```SQL\n",
    "\n",
    "SELECT \n",
    "    PT_NAME,\n",
    "    PT_NO,\n",
    "    GEND_CD,\n",
    "    AGE,\n",
    "    NVL(TLNO, 'NONE') AS TLNO\n",
    "FROM PATIENT\n",
    "WHERE\n",
    "    AGE <= 12\n",
    "    AND GEND_CD = 'W'\n",
    "ORDER BY \n",
    "    AGE DESC,\n",
    "    PT_NAME ASC;\n",
    "\n",
    "```"
   ]
  }
 ],
 "metadata": {
  "language_info": {
   "name": "python"
  }
 },
 "nbformat": 4,
 "nbformat_minor": 2
}
