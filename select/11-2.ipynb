{
 "cells": [
  {
   "cell_type": "markdown",
   "metadata": {},
   "source": [
    "### 문제\n",
    "\n",
    "* ONLINE_SALE 테이블에서 동일한 회원이 동일한 상품을 재구매한 데이터를 구하여, 재구매한 회원 ID와 재구매한 상품 ID를 출력하는 SQL문을 작성해주세요. 결과는 회원 ID를 기준으로 오름차순 정렬해주시고 회원 ID가 같다면 상품 ID를 기준으로 내림차순 정렬해주세요."
   ]
  },
  {
   "cell_type": "markdown",
   "metadata": {},
   "source": [
    "__MYSQL__\n",
    "\n",
    "```SQL\n",
    "\n",
    "SELECT \n",
    "    USER_ID,\n",
    "    PRODUCT_ID\n",
    "FROM \n",
    "    ONLINE_SALE\n",
    "GROUP BY \n",
    "    USER_ID,\n",
    "    PRODUCT_ID\n",
    "HAVING \n",
    "    COUNT(*) > 1\n",
    "ORDER BY\n",
    "    USER_ID ASC,\n",
    "    PRODUCT_ID DESC;\n",
    "\n",
    "```"
   ]
  },
  {
   "cell_type": "markdown",
   "metadata": {},
   "source": [
    "__ORACLE__\n",
    "\n",
    "```SQL\n",
    "\n",
    "SELECT\n",
    "    USER_ID,\n",
    "    PRODUCT_ID\n",
    "FROM ONLINE_SALE\n",
    "GROUP BY\n",
    "    USER_ID,\n",
    "    PRODUCT_ID\n",
    "HAVING\n",
    "    COUNT(*) > 1\n",
    "ORDER BY\n",
    "    USER_ID ASC,\n",
    "    PRODUCT_ID DESC;\n",
    "\n",
    "```"
   ]
  }
 ],
 "metadata": {
  "language_info": {
   "name": "python"
  }
 },
 "nbformat": 4,
 "nbformat_minor": 2
}
