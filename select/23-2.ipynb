{
 "cells": [
  {
   "cell_type": "markdown",
   "metadata": {},
   "source": [
    "### 문제\n",
    "\n",
    "* DEVELOPERS 테이블에서 Python이나 C# 스킬을 가진 개발자의 정보를 조회하려 합니다. 조건에 맞는 개발자의 ID, 이메일, 이름, 성을 조회하는 SQL 문을 작성해 주세요.\n",
    "결과는 ID를 기준으로 오름차순 정렬해 주세요."
   ]
  },
  {
   "cell_type": "markdown",
   "metadata": {},
   "source": [
    "__MYSQL__\n",
    "\n",
    "```SQL\n",
    "\n",
    "SELECT DISTINCT\n",
    "    DE.ID,\n",
    "    DE.EMAIL,\n",
    "    DE.FIRST_NAME,\n",
    "    DE.LAST_NAME\n",
    "FROM \n",
    "    DEVELOPERS DE\n",
    "JOIN \n",
    "    SKILLCODES SK ON (DE.SKILL_CODE & SK.CODE) = SK.CODE\n",
    "WHERE \n",
    "    SK.NAME IN ('Python', 'C#')\n",
    "ORDER BY \n",
    "    DE.ID ASC;\n",
    "\n",
    "```"
   ]
  }
 ],
 "metadata": {
  "kernelspec": {
   "display_name": "kdt7",
   "language": "python",
   "name": "python3"
  },
  "language_info": {
   "codemirror_mode": {
    "name": "ipython",
    "version": 3
   },
   "file_extension": ".py",
   "mimetype": "text/x-python",
   "name": "python",
   "nbconvert_exporter": "python",
   "pygments_lexer": "ipython3",
   "version": "3.11.5"
  }
 },
 "nbformat": 4,
 "nbformat_minor": 2
}
