{
 "cells": [
  {
   "cell_type": "markdown",
   "metadata": {},
   "source": [
    "### 문제\n",
    "\n",
    "* REST_INFO와 REST_REVIEW 테이블에서 서울에 위치한 식당들의 식당 ID, 식당 이름, 음식 종류, 즐겨찾기수, 주소, 리뷰 평균 점수를 조회하는 SQL문을 작성해주세요. 이때 리뷰 평균점수는 소수점 세 번째 자리에서 반올림 해주시고 결과는 평균점수를 기준으로 내림차순 정렬해주시고, 평균점수가 같다면 즐겨찾기수를 기준으로 내림차순 정렬해주세요."
   ]
  },
  {
   "cell_type": "markdown",
   "metadata": {},
   "source": [
    "__MYSQL__\n",
    "\n",
    "```SQL\n",
    "\n",
    "SELECT\n",
    "    INFO.REST_ID,\n",
    "    INFO.REST_NAME,\n",
    "    INFO.FOOD_TYPE,\n",
    "    INFO.FAVORITES,\n",
    "    INFO.ADDRESS,\n",
    "    ROUND(AVG(REVIEW.REVIEW_SCORE), 2) AS SCORE\n",
    "FROM \n",
    "    REST_INFO INFO\n",
    "    INNER JOIN REST_REVIEW REVIEW\n",
    "    ON INFO.REST_ID = REVIEW.REST_ID\n",
    "WHERE \n",
    "    INFO.ADDRESS LIKE '서울%'\n",
    "GROUP BY \n",
    "    INFO.REST_NAME\n",
    "ORDER BY \n",
    "    SCORE DESC,\n",
    "    INFO.FAVORITES DESC;\n",
    "\n",
    "```"
   ]
  },
  {
   "cell_type": "markdown",
   "metadata": {},
   "source": [
    "__ORACLE__\n",
    "\n",
    "```SQL\n",
    "\n",
    "SELECT\n",
    "    INFO.REST_ID,\n",
    "    INFO.REST_NAME,\n",
    "    INFO.FOOD_TYPE,\n",
    "    INFO.FAVORITES,\n",
    "    INFO.ADDRESS,\n",
    "    ROUND(AVG(REVIEW.REVIEW_SCORE), 2) AS SCORE\n",
    "FROM \n",
    "    REST_INFO INFO\n",
    "    INNER JOIN REST_REVIEW REVIEW\n",
    "    ON INFO.REST_ID = REVIEW.REST_ID\n",
    "WHERE \n",
    "    INFO.ADDRESS LIKE '서울%'\n",
    "GROUP BY \n",
    "    INFO.REST_ID,\n",
    "    INFO.REST_NAME,\n",
    "    INFO.FOOD_TYPE,\n",
    "    INFO.FAVORITES,\n",
    "    INFO.ADDRESS\n",
    "ORDER BY \n",
    "    SCORE DESC,\n",
    "    INFO.FAVORITES DESC;\n",
    "\n",
    "```"
   ]
  }
 ],
 "metadata": {
  "language_info": {
   "name": "python"
  }
 },
 "nbformat": 4,
 "nbformat_minor": 2
}
