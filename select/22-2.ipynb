{
 "cells": [
  {
   "cell_type": "markdown",
   "metadata": {},
   "source": [
    "### 문제\n",
    "\n",
    "* DEVELOPER_INFOS 테이블에서 Python 스킬을 가진 개발자의 정보를 조회하려 합니다. Python 스킬을 가진 개발자의 ID, 이메일, 이름, 성을 조회하는 SQL 문을 작성해 주세요.\n",
    "\n",
    "결과는 ID를 기준으로 오름차순 정렬해 주세요."
   ]
  },
  {
   "cell_type": "markdown",
   "metadata": {},
   "source": [
    "__MYSQL__\n",
    "\n",
    "```SQL\n",
    "\n",
    "SELECT \n",
    "    ID,\n",
    "    EMAIL,\n",
    "    FIRST_NAME,\n",
    "    LAST_NAME\n",
    "FROM \n",
    "    DEVELOPER_INFOS\n",
    "WHERE \n",
    "    SKILL_1 = 'Python' \n",
    "    OR SKILL_2 = 'Python' \n",
    "    OR SKILL_3 = 'Python'\n",
    "ORDER BY ID ASC;\n",
    "\n",
    "```"
   ]
  }
 ],
 "metadata": {
  "language_info": {
   "name": "python"
  }
 },
 "nbformat": 4,
 "nbformat_minor": 2
}
