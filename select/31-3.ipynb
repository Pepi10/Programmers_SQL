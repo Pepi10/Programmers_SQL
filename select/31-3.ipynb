{
 "cells": [
  {
   "cell_type": "markdown",
   "metadata": {},
   "source": [
    "### 문제\n",
    "\n",
    "* 대장균 개체의 크기를 내름차순으로 정렬했을 때 상위 0% ~ 25% 를 'CRITICAL', 26% ~ 50% 를 'HIGH', 51% ~ 75% 를 'MEDIUM', 76% ~ 100% 를 'LOW' 라고 분류합니다. 대장균 개체의 ID(ID) 와 분류된 이름(COLONY_NAME)을 출력하는 SQL 문을 작성해주세요. 이때 결과는 개체의 ID 에 대해 오름차순 정렬해주세요 . 단, 총 데이터의 수는 4의 배수이며 같은 사이즈의 대장균 개체가 서로 다른 이름으로 분류되는 경우는 없습니다."
   ]
  },
  {
   "cell_type": "markdown",
   "metadata": {},
   "source": [
    "__MYSQL__\n",
    "\n",
    "```SQL\n",
    "\n",
    "WITH \n",
    "    T1 AS (\n",
    "    SELECT \n",
    "        ID,\n",
    "        ROW_NUMBER() OVER (ORDER BY SIZE_OF_COLONY DESC) AS ROW_NUM,\n",
    "        SIZE_OF_COLONY,\n",
    "        (SELECT COUNT(*) FROM ECOLI_DATA) AS TOTAL_COUNT\n",
    "    FROM ECOLI_DATA\n",
    ")\n",
    "SELECT\n",
    "    ID,\n",
    "    CASE\n",
    "        WHEN ROW_NUM <= TOTAL_COUNT / 4 THEN 'CRITICAL'\n",
    "        WHEN ROW_NUM <= TOTAL_COUNT / 2 THEN 'HIGH'\n",
    "        WHEN ROW_NUM <= TOTAL_COUNT / 4 * 3 THEN 'MEDIUM'\n",
    "        ELSE 'LOW'\n",
    "    END AS COLONY_NAME\n",
    "FROM\n",
    "    T1\n",
    "ORDER BY\n",
    "    ID ASC;\n",
    "\n",
    "```"
   ]
  },
  {
   "cell_type": "markdown",
   "metadata": {},
   "source": [
    "> * T1 table을 with문으로 아래 조건에 따라 생성\n",
    ">   * 크기를 기준으로 내림차순 정렬 후 reset_index, column_name = ROW_NUM\n",
    ">   * 테이블의 전체 크기를 TOTAL_COUNT column에 저장\n",
    "> * 문제 조건에 맞추어 T1 table을 가져옴"
   ]
  }
 ],
 "metadata": {
  "language_info": {
   "name": "python"
  }
 },
 "nbformat": 4,
 "nbformat_minor": 2
}
