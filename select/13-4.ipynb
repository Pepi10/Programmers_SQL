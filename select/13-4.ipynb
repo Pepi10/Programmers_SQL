{
 "cells": [
  {
   "cell_type": "markdown",
   "metadata": {},
   "source": [
    "### 문제\n",
    "\n",
    "* ONLINE_SALE 테이블과 OFFLINE_SALE 테이블에서 2022년 3월의 오프라인/온라인 상품 판매 데이터의 판매 날짜, 상품ID, 유저ID, 판매량을 출력하는 SQL문을 작성해주세요. OFFLINE_SALE 테이블의 판매 데이터의 USER_ID 값은 NULL 로 표시해주세요. 결과는 판매일을 기준으로 오름차순 정렬해주시고 판매일이 같다면 상품 ID를 기준으로 오름차순, 상품ID까지 같다면 유저 ID를 기준으로 오름차순 정렬해주세요."
   ]
  },
  {
   "cell_type": "markdown",
   "metadata": {},
   "source": [
    "__MYSQL__\n",
    "\n",
    "```SQL\n",
    "\n",
    "SELECT\n",
    "    DATE_FORMAT(SALES_DATE, '%Y-%m-%d') AS SALES_DATE,\n",
    "    PRODUCT_ID,\n",
    "    USER_ID,\n",
    "    SALES_AMOUNT\n",
    "FROM \n",
    "    ONLINE_SALE\n",
    "WHERE\n",
    "    SALES_DATE LIKE '2022-03%'\n",
    "\n",
    "UNION ALL\n",
    "\n",
    "SELECT\n",
    "    DATE_FORMAT(SALES_DATE, '%Y-%m-%d') AS SALES_DATE,\n",
    "    PRODUCT_ID,\n",
    "    NULL AS USER_ID,\n",
    "    SALES_AMOUNT\n",
    "FROM \n",
    "    OFFLINE_SALE\n",
    "WHERE\n",
    "    SALES_DATE LIKE '2022-03%'\n",
    "\n",
    "ORDER BY\n",
    "    SALES_DATE ASC,\n",
    "    PRODUCT_ID ASC,\n",
    "    USER_ID ASC\n",
    "\n",
    "```"
   ]
  },
  {
   "cell_type": "markdown",
   "metadata": {},
   "source": [
    "__ORACLE__\n",
    "\n",
    "```SQL\n",
    "\n",
    "SELECT \n",
    "    TO_CHAR(SALES_DATE, 'YYYY-mm-dd') AS SALES_DATE,\n",
    "    PRODUCT_ID,\n",
    "    USER_ID,\n",
    "    SALES_AMOUNT\n",
    "FROM \n",
    "    ONLINE_SALE\n",
    "WHERE \n",
    "    TO_CHAR(SALES_DATE, 'mm') = '03'\n",
    "\n",
    "UNION ALL\n",
    "\n",
    "SELECT \n",
    "    TO_CHAR(SALES_DATE, 'YYYY-mm-dd') AS SALES_DATE,\n",
    "    PRODUCT_ID,\n",
    "    NULL AS USER_ID,\n",
    "    SALES_AMOUNT\n",
    "FROM \n",
    "    OFFLINE_SALE\n",
    "WHERE \n",
    "    TO_CHAR(SALES_DATE, 'mm') = '03'\n",
    "\n",
    "ORDER BY\n",
    "    SALES_DATE ASC,\n",
    "    PRODUCT_ID ASC,\n",
    "    USER_ID ASC\n",
    "\n",
    "```"
   ]
  }
 ],
 "metadata": {
  "language_info": {
   "name": "python"
  }
 },
 "nbformat": 4,
 "nbformat_minor": 2
}
