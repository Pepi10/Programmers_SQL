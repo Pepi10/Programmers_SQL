{
 "cells": [
  {
   "cell_type": "markdown",
   "metadata": {},
   "source": [
    "### 문제\n",
    "* BOOK 테이블에서 2021년에 출판된 '인문' 카테고리에 속하는 도서 리스트를 찾아서 도서 ID(BOOK_ID), 출판일 (PUBLISHED_DATE)을 출력하는 SQL문을 작성해주세요.\n",
    "결과는 출판일을 기준으로 오름차순 정렬해주세요."
   ]
  },
  {
   "cell_type": "markdown",
   "metadata": {},
   "source": [
    "__MYSQL__ \n",
    "\n",
    "```SQL\n",
    "\n",
    "SELECT \n",
    "    BOOK_ID,\n",
    "    DATE_FORMAT(PUBLISHED_DATE, '%Y-%m-%d') AS PUBLISHED_DATE\n",
    "FROM BOOK\n",
    "WHERE \n",
    "    PUBLISHED_DATE LIKE '2021%' \n",
    "    AND CATEGORY = '인문'\n",
    "ORDER BY PUBLISHED_DATE ASC;\n",
    "\n",
    "```"
   ]
  },
  {
   "cell_type": "markdown",
   "metadata": {},
   "source": [
    "__ORACLE__\n",
    "\n",
    "```SQL\n",
    "\n",
    "SELECT \n",
    "    BOOK_ID,\n",
    "    TO_CHAR(PUBLISHED_DATE, 'YYYY-MM-DD') AS PUBLISHED_DATE\n",
    "FROM \n",
    "    BOOK\n",
    "WHERE \n",
    "    TO_CHAR(PUBLISHED_DATE, 'YYYY') = '2021'\n",
    "    AND CATEGORY = '인문'\n",
    "ORDER BY \"PUBLISHED_DATE\" ASC;\n",
    "\n",
    "```"
   ]
  }
 ],
 "metadata": {
  "language_info": {
   "name": "python"
  }
 },
 "nbformat": 4,
 "nbformat_minor": 2
}
