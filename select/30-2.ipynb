{
 "cells": [
  {
   "cell_type": "markdown",
   "metadata": {},
   "source": [
    "### 문제\n",
    "\n",
    "* 부모의 형질을 모두 보유한 대장균의 ID(ID), 대장균의 형질(GENOTYPE), 부모 대장균의 형질(PARENT_GENOTYPE)을 출력하는 SQL 문을 작성해주세요. 이때 결과는 ID에 대해 오름차순 정렬해주세요."
   ]
  },
  {
   "cell_type": "markdown",
   "metadata": {},
   "source": [
    "__MYSQL__\n",
    "\n",
    "```SQL\n",
    "\n",
    "SELECT \n",
    "    PARENT.ID AS ID,\n",
    "    PARENT.GENOTYPE AS GENOTYPE,\n",
    "    CHILD.GENOTYPE AS PARENT_GENOTYPE\n",
    "FROM \n",
    "    ECOLI_DATA CHILD\n",
    "JOIN\n",
    "    ECOLI_DATA PARENT \n",
    "    ON CHILD.ID = PARENT.PARENT_ID\n",
    "WHERE \n",
    "    (CHILD.GENOTYPE & PARENT.GENOTYPE) = CHILD.GENOTYPE \n",
    "ORDER BY \n",
    "    ID ASC;\n",
    "\n",
    "```"
   ]
  }
 ],
 "metadata": {
  "language_info": {
   "name": "python"
  }
 },
 "nbformat": 4,
 "nbformat_minor": 2
}
