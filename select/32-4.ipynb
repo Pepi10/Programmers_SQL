{
 "cells": [
  {
   "cell_type": "markdown",
   "metadata": {},
   "source": [
    "### 문제\n",
    "\n",
    "* 3세대의 대장균의 ID(ID) 를 출력하는 SQL 문을 작성해주세요. 이때 결과는 대장균의 ID 에 대해 오름차순 정렬해주세요."
   ]
  },
  {
   "cell_type": "markdown",
   "metadata": {},
   "source": [
    "__MYSQL__\n",
    "\n",
    "```SQL\n",
    "\n",
    "WITH\n",
    "    G1 AS (\n",
    "        SELECT ID\n",
    "        FROM\n",
    "            ECOLI_DATA\n",
    "        WHERE PARENT_ID IS NULL\n",
    "),\n",
    "    G2 AS (\n",
    "        SELECT ECOLI_DATA.ID\n",
    "        FROM\n",
    "            ECOLI_DATA\n",
    "        JOIN G1\n",
    "            ON G1.ID = ECOLI_DATA.PARENT_ID\n",
    ")\n",
    "\n",
    "SELECT ECOLI_DATA.ID\n",
    "FROM\n",
    "    ECOLI_DATA\n",
    "    JOIN G2\n",
    "        ON G2.ID = ECOLI_DATA.PARENT_ID\n",
    "ORDER BY\n",
    "    ID ASC;\n",
    "\n",
    "```"
   ]
  }
 ],
 "metadata": {
  "language_info": {
   "name": "python"
  }
 },
 "nbformat": 4,
 "nbformat_minor": 2
}
