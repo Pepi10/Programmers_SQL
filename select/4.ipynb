{
 "cells": [
  {
   "cell_type": "markdown",
   "metadata": {},
   "source": [
    "### 문제\n",
    "\n",
    "* USED_GOODS_BOARD와 USED_GOODS_REPLY 테이블에서 2022년 10월에 작성된 게시글 제목, 게시글 ID, 댓글 ID, 댓글 작성자 ID, 댓글 내용, 댓글 작성일을 조회하는 SQL문을 작성해주세요. 결과는 댓글 작성일을 기준으로 오름차순 정렬해주시고, 댓글 작성일이 같다면 게시글 제목을 기준으로 오름차순 정렬해주세요."
   ]
  },
  {
   "cell_type": "markdown",
   "metadata": {},
   "source": [
    "__MYSQL__\n",
    "\n",
    "```SQL\n",
    "\n",
    "SELECT \n",
    "    BO.TITLE, \n",
    "    BO.BOARD_ID, \n",
    "    RE.REPLY_ID, \n",
    "    RE.WRITER_ID, \n",
    "    RE.CONTENTS, \n",
    "    DATE_FORMAT(RE.CREATED_DATE, '%Y-%m-%d') AS CREATED_DATE\n",
    "\n",
    "FROM USED_GOODS_BOARD BO\n",
    "    INNER JOIN USED_GOODS_REPLY RE\n",
    "    ON BO.BOARD_ID  = RE.BOARD_ID \n",
    "\n",
    "WHERE BO.CREATED_DATE BETWEEN '2022-10-01' AND '2022-10-31'\n",
    "ORDER BY \n",
    "    RE.CREATED_DATE ASC, \n",
    "    BO.TITLE ASC;\n",
    "\n",
    "```"
   ]
  },
  {
   "cell_type": "markdown",
   "metadata": {},
   "source": [
    "__ORACLE__\n",
    "\n",
    "```SQL\n",
    "\n",
    "SELECT\n",
    "    BO.TITLE,\n",
    "    BO.BOARD_ID,\n",
    "    RE.REPLY_ID,\n",
    "    RE.WRITER_ID,\n",
    "    RE.CONTENTS,\n",
    "    TO_CHAR(RE.CREATED_DATE, 'YYYY-MM-DD') AS CREATE_DATE\n",
    "FROM USED_GOODS_BOARD  BO\n",
    "    INNER JOIN USED_GOODS_REPLY  RE \n",
    "    ON BO.board_id = re.board_id\n",
    "WHERE TO_CHAR(BO.CREATED_DATE, 'YYYY-MM') = '2022-10'\n",
    "ORDER BY \n",
    "    RE.CREATED_DATE ASC, \n",
    "    BO.TITLE ASC;\n",
    "\n",
    "```"
   ]
  }
 ],
 "metadata": {
  "language_info": {
   "name": "python"
  }
 },
 "nbformat": 4,
 "nbformat_minor": 2
}
