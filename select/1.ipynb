{
 "cells": [
  {
   "cell_type": "markdown",
   "metadata": {},
   "source": [
    "### 문제\n",
    "\n",
    "* CAR_RENTAL_COMPANY_CAR 테이블에서 자동차 종류가 'SUV'인 자동차들의 평균 일일 대여 요금을 출력하는 SQL문을 작성해주세요. 이때 평균 일일 대여 요금은 소수 첫 번째 자리에서 반올림하고, 컬럼명은 AVERAGE_FEE 로 지정해주세요."
   ]
  },
  {
   "cell_type": "markdown",
   "metadata": {},
   "source": [
    "__MYSQL__\n",
    "\n",
    "```sql\n",
    "\n",
    "SELECT\n",
    "    ROUND(AVG(DAILY_FEE), 0) AS AVERAGE_FEE\n",
    "FROM CAR_RENTAL_COMPANY_CAR\n",
    "WHERE CAR_TYPE = 'SUV'\n",
    "GROUP BY CAR_TYPE;\n",
    "```"
   ]
  },
  {
   "cell_type": "markdown",
   "metadata": {},
   "source": [
    "__ORACLE__\n",
    "\n",
    "```SQL \n",
    "\n",
    "SELECT \n",
    "    ROUND(AVG(DAILY_FEE), 0) AS AVERAGE_FEE\n",
    "FROM CAR_RENTAL_COMPANY_CAR\n",
    "WHERE CAR_TYPE = 'SUV'\n",
    "GROUP BY\n",
    "    CAR_TYPE;\n",
    "\n",
    "```"
   ]
  }
 ],
 "metadata": {
  "kernelspec": {
   "display_name": "base",
   "language": "python",
   "name": "python3"
  },
  "language_info": {
   "codemirror_mode": {
    "name": "ipython",
    "version": 3
   },
   "file_extension": ".py",
   "mimetype": "text/x-python",
   "name": "python",
   "nbconvert_exporter": "python",
   "pygments_lexer": "ipython3",
   "version": "3.11.7"
  }
 },
 "nbformat": 4,
 "nbformat_minor": 2
}
