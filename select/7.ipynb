{
 "cells": [
  {
   "cell_type": "markdown",
   "metadata": {},
   "source": [
    "SHIPMENT_ID\t    FLAVOR\t        TOTAL_ORDER\n",
    "104\t            caramel\t        2600\n",
    "101\t            chocolate\t    3200\n",
    "103\t            mint_chocolate\t1700\n",
    "106\t            peach\t        2450"
   ]
  },
  {
   "cell_type": "markdown",
   "metadata": {},
   "source": [
    "FLAVOR\t        INGREDIENT_TYPE\n",
    "caramel\t        sugar_based\n",
    "chocolate\t    sugar_based\n",
    "mint_chocolate\tsugar_based\n",
    "peach\t        fruit_based\n",
    "strawberry\t    fruit_based"
   ]
  },
  {
   "cell_type": "markdown",
   "metadata": {},
   "source": [
    "__MYSQL__\n",
    "\n",
    "```SQL\n",
    "\n",
    "SELECT INFO.FLAVOR\n",
    "FROM \n",
    "    FIRST_HALF HALF\n",
    "    INNER JOIN ICECREAM_INFO INFO\n",
    "    ON HALF.FLAVOR = INFO.FLAVOR\n",
    "WHERE \n",
    "    HALF.TOTAL_ORDER > 3000\n",
    "    AND INFO.INGREDIENT_TYPE = 'fruit_based'\n",
    "ORDER BY HALF.TOTAL_ORDER DESC;\n",
    "\n",
    "```"
   ]
  },
  {
   "cell_type": "markdown",
   "metadata": {},
   "source": [
    "__ORACLE__\n",
    "\n",
    "```SQL\n",
    "\n",
    "SELECT HALF.FLAVOR\n",
    "FROM \n",
    "    FIRST_HALF HALF\n",
    "    INNER JOIN ICECREAM_INFO INFO\n",
    "    ON HALF.FLAVOR = INFO.FLAVOR\n",
    "WHERE \n",
    "    HALF.TOTAL_ORDER > 3000\n",
    "    AND INFO.INGREDIENT_TYPE = 'fruit_based'\n",
    "\n",
    "```"
   ]
  }
 ],
 "metadata": {
  "kernelspec": {
   "display_name": "base",
   "language": "python",
   "name": "python3"
  },
  "language_info": {
   "name": "python",
   "version": "3.11.7"
  }
 },
 "nbformat": 4,
 "nbformat_minor": 2
}
