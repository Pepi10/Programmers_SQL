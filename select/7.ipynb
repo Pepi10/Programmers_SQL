{
 "cells": [
  {
   "cell_type": "markdown",
   "metadata": {},
   "source": [
    "### 문제\n",
    "\n",
    "* 상반기 아이스크림 총주문량이 3,000보다 높으면서 아이스크림의 주 성분이 과일인 아이스크림의 맛을 총주문량이 큰 순서대로 조회하는 SQL 문을 작성해주세요."
   ]
  },
  {
   "cell_type": "markdown",
   "metadata": {},
   "source": [
    "__MYSQL__\n",
    "\n",
    "```SQL\n",
    "\n",
    "SELECT INFO.FLAVOR\n",
    "FROM \n",
    "    FIRST_HALF HALF\n",
    "    INNER JOIN ICECREAM_INFO INFO\n",
    "    ON HALF.FLAVOR = INFO.FLAVOR\n",
    "WHERE \n",
    "    HALF.TOTAL_ORDER > 3000\n",
    "    AND INFO.INGREDIENT_TYPE = 'fruit_based'\n",
    "ORDER BY HALF.TOTAL_ORDER DESC;\n",
    "\n",
    "```"
   ]
  },
  {
   "cell_type": "markdown",
   "metadata": {},
   "source": [
    "__ORACLE__\n",
    "\n",
    "```SQL\n",
    "\n",
    "SELECT HALF.FLAVOR\n",
    "FROM \n",
    "    FIRST_HALF HALF\n",
    "    INNER JOIN ICECREAM_INFO INFO\n",
    "    ON HALF.FLAVOR = INFO.FLAVOR\n",
    "WHERE \n",
    "    HALF.TOTAL_ORDER > 3000\n",
    "    AND INFO.INGREDIENT_TYPE = 'fruit_based'\n",
    "\n",
    "```"
   ]
  }
 ],
 "metadata": {
  "kernelspec": {
   "display_name": "base",
   "language": "python",
   "name": "python3"
  },
  "language_info": {
   "name": "python",
   "version": "3.11.7"
  }
 },
 "nbformat": 4,
 "nbformat_minor": 2
}
