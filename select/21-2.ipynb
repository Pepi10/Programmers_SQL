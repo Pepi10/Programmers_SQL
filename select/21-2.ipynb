{
 "cells": [
  {
   "cell_type": "markdown",
   "metadata": {},
   "source": [
    "### 문제\n",
    "\n",
    "* 아이템의 희귀도가 'RARE'인 아이템들의 모든 다음 업그레이드 아이템의 아이템 ID(ITEM_ID), 아이템 명(ITEM_NAME), 아이템의 희귀도(RARITY)를 출력하는 SQL 문을 작성해 주세요. 이때 결과는 아이템 ID를 기준으로 내림차순 정렬주세요."
   ]
  },
  {
   "cell_type": "markdown",
   "metadata": {},
   "source": [
    "__MYSQL__\n",
    "\n",
    "```SQL\n",
    "\n",
    "SELECT \n",
    "    FO.ITEM_ID, \n",
    "    FO.ITEM_NAME, \n",
    "    FO.RARITY\n",
    "FROM \n",
    "    ITEM_INFO FO\n",
    "    JOIN ITEM_TREE EE \n",
    "    ON FO.ITEM_ID = EE.ITEM_ID\n",
    "WHERE \n",
    "    EE.PARENT_ITEM_ID IN (\n",
    "        SELECT \n",
    "            ITEM_ID\n",
    "        FROM \n",
    "            ITEM_INFO\n",
    "        WHERE \n",
    "            RARITY = 'RARE'\n",
    "        )\n",
    "ORDER BY FO.ITEM_ID DESC;\n",
    "\n",
    "```"
   ]
  }
 ],
 "metadata": {
  "language_info": {
   "name": "python"
  }
 },
 "nbformat": 4,
 "nbformat_minor": 2
}
