{
 "cells": [
  {
   "cell_type": "markdown",
   "metadata": {},
   "source": [
    "### 문제\n",
    "\n",
    "* 대장균 개체의 ID(ID)와 자식의 수(CHILD_COUNT)를 출력하는 SQL 문을 작성해주세요. 자식이 없다면 자식의 수는 0으로 출력해주세요. 이때 결과는 개체의 ID 에 대해 오름차순 정렬해주세요."
   ]
  },
  {
   "cell_type": "markdown",
   "metadata": {},
   "source": [
    "__MYSQL__\n",
    "\n",
    "```SQL\n",
    "\n",
    "SELECT\n",
    "    T1.ID,\n",
    "    COALESCE(T2.CHILD_COUNT, 0) AS CHILD_COUNT\n",
    "FROM \n",
    "    ECOLI_DATA T1\n",
    "    LEFT JOIN (\n",
    "        SELECT\n",
    "            T2.PARENT_ID,\n",
    "            COUNT(*) AS CHILD_COUNT\n",
    "        FROM \n",
    "            ECOLI_DATA T2\n",
    "        GROUP BY \n",
    "            T2.PARENT_ID\n",
    "    ) T2\n",
    "    ON T1.ID = T2.PARENT_ID;\n",
    "\n",
    "```"
   ]
  }
 ],
 "metadata": {
  "language_info": {
   "name": "python"
  }
 },
 "nbformat": 4,
 "nbformat_minor": 2
}
