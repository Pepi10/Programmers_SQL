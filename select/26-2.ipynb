{
 "cells": [
  {
   "cell_type": "markdown",
   "metadata": {},
   "source": [
    "### 문제\n",
    "\n",
    "* FISH_INFO 테이블에서 잡은 BASS와 SNAPPER의 수를 출력하는 SQL 문을 작성해주세요.\n",
    "컬럼명은 'FISH_COUNT`로 해주세요."
   ]
  },
  {
   "cell_type": "markdown",
   "metadata": {},
   "source": [
    "__MYSQL__\n",
    "\n",
    "```SQL\n",
    "\n",
    "SELECT\n",
    "    COUNT(*) AS FISH_COUNT\n",
    "FROM\n",
    "    FISH_INFO HI\n",
    "    INNER JOIN FISH_NAME_INFO NI\n",
    "    ON HI.FISH_TYPE = NI.FISH_TYPE\n",
    "WHERE \n",
    "    NI.FISH_NAME = 'BASS'\n",
    "    OR NI.FISH_NAME = 'SNAPPER'\n",
    "\n",
    "```"
   ]
  }
 ],
 "metadata": {
  "language_info": {
   "name": "python"
  }
 },
 "nbformat": 4,
 "nbformat_minor": 2
}
