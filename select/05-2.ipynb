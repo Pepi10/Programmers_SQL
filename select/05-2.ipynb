{
 "cells": [
  {
   "cell_type": "markdown",
   "metadata": {},
   "source": [
    "### 문제\n",
    "\n",
    "* MEMBER_PROFILE 테이블에서 생일이 3월인 여성 회원의 ID, 이름, 성별, 생년월일을 조회하는 SQL문을 작성해주세요. 이때 전화번호가 NULL인 경우는 출력대상에서 제외시켜 주시고, 결과는 회원ID를 기준으로 오름차순 정렬해주세요."
   ]
  },
  {
   "cell_type": "markdown",
   "metadata": {},
   "source": [
    "__MYSQL__\n",
    "\n",
    "```SQL\n",
    "\n",
    "SELECT \n",
    "    MEMBER_ID,\n",
    "    MEMBER_NAME,\n",
    "    GENDER,\n",
    "    DATE_FORMAT(DATE_OF_BIRTH, '%Y-%m-%d') AS DATE_OF_BIRTH\n",
    "FROM MEMBER_PROFILE\n",
    "WHERE \n",
    "    DATE_FORMAT(DATE_OF_BIRTH, '%m') LIKE '03'\n",
    "    AND GENDER = 'W'\n",
    "    AND TLNO IS NOT NULL\n",
    "ORDER BY MEMBER_ID ASC;\n",
    "\n",
    "```"
   ]
  },
  {
   "cell_type": "markdown",
   "metadata": {},
   "source": [
    "__ORACLE__\n",
    "\n",
    "```SQL\n",
    "\n",
    "SELECT \n",
    "    MEMBER_ID,\n",
    "    MEMBER_NAME,\n",
    "    GENDER,\n",
    "    TO_CHAR(DATE_OF_BIRTH, 'YYYY-mm-dd') AS DATE_OF_BIRTH\n",
    "FROM MEMBER_PROFILE\n",
    "WHERE \n",
    "    TO_CHAR(DATE_OF_BIRTH, 'mm') = '03'\n",
    "    AND GENDER = 'W'\n",
    "    AND TLNO IS NOT NULL\n",
    "ORDER BY MEMBER_ID ASC;\n",
    "\n",
    "```"
   ]
  }
 ],
 "metadata": {
  "language_info": {
   "name": "python"
  }
 },
 "nbformat": 4,
 "nbformat_minor": 2
}
