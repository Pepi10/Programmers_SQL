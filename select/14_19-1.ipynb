{
 "cells": [
  {
   "cell_type": "markdown",
   "metadata": {},
   "source": [
    "### 문제\n",
    "\n",
    "* 동물 보호소에 들어온 모든 동물의 이름과 보호 시작일을 조회하는 SQL문을 작성해주세요. 이때 결과는 ANIMAL_ID 역순으로 보여주세요. SQL을 실행하면 다음과 같이 출력되어야 합니다."
   ]
  },
  {
   "cell_type": "markdown",
   "metadata": {},
   "source": [
    "__MYSQL__\n",
    "\n",
    "```SQL\n",
    "\n",
    "SELECT\n",
    "    NAME,\n",
    "    DATETIME\n",
    "FROM \n",
    "    ANIMAL_INS\n",
    "ORDER BY \n",
    "    ANIMAL_ID DESC;\n",
    "\n",
    "```"
   ]
  },
  {
   "cell_type": "markdown",
   "metadata": {},
   "source": [
    "__ORACLE__\n",
    "\n",
    "```SQL\n",
    "\n",
    "SELECT\n",
    "    NAME,\n",
    "    DATETIME\n",
    "FROM \n",
    "    ANIMAL_INS\n",
    "ORDER BY \n",
    "    ANIMAL_ID DESC;\n",
    "\n",
    "```"
   ]
  },
  {
   "cell_type": "markdown",
   "metadata": {},
   "source": [
    "### 문제\n",
    "\n",
    "* 동물 보호소에 들어온 동물 중 아픈 동물1의 아이디와 이름을 조회하는 SQL 문을 작성해주세요. 이때 결과는 아이디 순으로 조회해주세요."
   ]
  },
  {
   "cell_type": "markdown",
   "metadata": {},
   "source": [
    "__MYSQL__\n",
    "\n",
    "```SQL\n",
    "\n",
    "SELECT \n",
    "    ANIMAL_ID,\n",
    "    NAME\n",
    "FROM \n",
    "    ANIMAL_INS\n",
    "WHERE \n",
    "    INTAKE_CONDITION = 'Sick'\n",
    "ORDER BY \n",
    "    ANIMAL_ID ASC;\n",
    "\n",
    "```"
   ]
  },
  {
   "cell_type": "markdown",
   "metadata": {},
   "source": [
    "__ORACLE__\n",
    "\n",
    "```SQL\n",
    "\n",
    "SELECT \n",
    "    ANIMAL_ID,\n",
    "    NAME\n",
    "FROM \n",
    "    ANIMAL_INS\n",
    "WHERE \n",
    "    INTAKE_CONDITION = 'Sick'\n",
    "ORDER BY \n",
    "    ANIMAL_ID ASC;\n",
    "\n",
    "```"
   ]
  },
  {
   "cell_type": "markdown",
   "metadata": {},
   "source": [
    "### 문제\n",
    "\n",
    "* 동물 보호소에 들어온 동물 중 젊은 동물1의 아이디와 이름을 조회하는 SQL 문을 작성해주세요. 이때 결과는 아이디 순으로 조회해주세요."
   ]
  },
  {
   "cell_type": "markdown",
   "metadata": {},
   "source": [
    "__MYSQL__\n",
    "\n",
    "```SQL\n",
    "\n",
    "SELECT \n",
    "    ANIMAL_ID,\n",
    "    NAME\n",
    "FROM \n",
    "    ANIMAL_INS\n",
    "WHERE \n",
    "    INTAKE_CONDITION != 'Aged'\n",
    "ORDER BY \n",
    "    ANIMAL_ID ASC;\n",
    "\n",
    "```"
   ]
  },
  {
   "cell_type": "markdown",
   "metadata": {},
   "source": [
    "__ORACLE__\n",
    "\n",
    "```SQL\n",
    "\n",
    "SELECT \n",
    "    ANIMAL_ID,\n",
    "    NAME\n",
    "FROM \n",
    "    ANIMAL_INS\n",
    "WHERE \n",
    "    INTAKE_CONDITION != 'Aged'\n",
    "ORDER BY \n",
    "    ANIMAL_ID ASC;\n",
    "\n",
    "```"
   ]
  },
  {
   "cell_type": "markdown",
   "metadata": {},
   "source": [
    "### 문제\n",
    "\n",
    "* 동물 보호소에 들어온 모든 동물의 아이디와 이름을 ANIMAL_ID순으로 조회하는 SQL문을 작성해주세요. SQL을 실행하면 다음과 같이 출력되어야 합니다."
   ]
  },
  {
   "cell_type": "markdown",
   "metadata": {},
   "source": [
    "__MYSQL__\n",
    "\n",
    "```SQL\n",
    "\n",
    "SELECT\n",
    "    ANIMAL_ID,\n",
    "    NAME\n",
    "FROM \n",
    "    ANIMAL_INS\n",
    "ORDER BY\n",
    "    ANIMAL_ID ASC;\n",
    "\n",
    "```"
   ]
  },
  {
   "cell_type": "markdown",
   "metadata": {},
   "source": [
    "__ORACLE__\n",
    "\n",
    "```SQL\n",
    "\n",
    "SELECT\n",
    "    ANIMAL_ID,\n",
    "    NAME\n",
    "FROM \n",
    "    ANIMAL_INS\n",
    "ORDER BY\n",
    "    ANIMAL_ID ASC;\n",
    "\n",
    "```"
   ]
  },
  {
   "cell_type": "markdown",
   "metadata": {},
   "source": [
    "### 문제\n",
    "\n",
    "* 동물 보호소에 들어온 모든 동물의 아이디와 이름, 보호 시작일을 이름 순으로 조회하는 SQL문을 작성해주세요. 단, 이름이 같은 동물 중에서는 보호를 나중에 시작한 동물을 먼저 보여줘야 합니다."
   ]
  },
  {
   "cell_type": "markdown",
   "metadata": {},
   "source": [
    "__MYSQL__\n",
    "\n",
    "```SQL\n",
    "\n",
    "SELECT\n",
    "    ANIMAL_ID,\n",
    "    NAME,\n",
    "    DATETIME\n",
    "FROM \n",
    "    ANIMAL_INS\n",
    "ORDER BY\n",
    "    NAME ASC,\n",
    "    DATETIME DESC;\n",
    "\n",
    "```"
   ]
  },
  {
   "cell_type": "markdown",
   "metadata": {},
   "source": [
    "__ORACLE__\n",
    "\n",
    "```SQL \n",
    "\n",
    "SELECT\n",
    "    ANIMAL_ID,\n",
    "    NAME,\n",
    "    DATETIME\n",
    "FROM \n",
    "    ANIMAL_INS\n",
    "ORDER BY\n",
    "    NAME ASC,\n",
    "    DATETIME DESC;\n",
    "\n",
    "```"
   ]
  },
  {
   "cell_type": "markdown",
   "metadata": {},
   "source": [
    "### 문제\n",
    "\n",
    "* 동물 보호소에 가장 먼저 들어온 동물의 이름을 조회하는 SQL 문을 작성해주세요."
   ]
  },
  {
   "cell_type": "markdown",
   "metadata": {},
   "source": [
    "__MYSQL__\n",
    "\n",
    "```SQL\n",
    "\n",
    "SELECT\n",
    "    NAME\n",
    "FROM \n",
    "    ANIMAL_INS\n",
    "ORDER BY \n",
    "    DATETIME ASC\n",
    "LIMIT 1;\n",
    "\n",
    "```"
   ]
  },
  {
   "cell_type": "markdown",
   "metadata": {},
   "source": [
    "__ORACLE__\n",
    "\n",
    "```SQL\n",
    "\n",
    "SELECT\n",
    "    NAME\n",
    "FROM \n",
    "    ANIMAL_INS\n",
    "ORDER BY \n",
    "    DATETIME ASC\n",
    "FETCH FIRST 1 ROW ONLY;\n",
    "\n",
    "\n",
    "\n",
    "SELECT\n",
    "    NAME\n",
    "FROM \n",
    "    ANIMAL_INS\n",
    "ORDER BY \n",
    "    DATETIME ASC\n",
    "WHERE ROWNUM = 1;\n",
    "\n",
    "```"
   ]
  }
 ],
 "metadata": {
  "language_info": {
   "name": "python"
  }
 },
 "nbformat": 4,
 "nbformat_minor": 2
}
