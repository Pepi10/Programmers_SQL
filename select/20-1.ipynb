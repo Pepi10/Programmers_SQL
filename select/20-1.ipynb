{
 "cells": [
  {
   "cell_type": "markdown",
   "metadata": {},
   "source": [
    "### 문제\n",
    "\n",
    "* USER_INFO 테이블에서 2021년에 가입한 회원 중 나이가 20세 이상 29세 이하인 회원이 몇 명인지 출력하는 SQL문을 작성해주세요."
   ]
  },
  {
   "cell_type": "markdown",
   "metadata": {},
   "source": [
    "__MYSQL__\n",
    "\n",
    "```SQL\n",
    "\n",
    "SELECT \n",
    "    COUNT(*) AS USERS\n",
    "FROM \n",
    "    USER_INFO\n",
    "WHERE\n",
    "    DATE_FORMAT(JOINED, '%Y') = '2021'\n",
    "    AND AGE BETWEEN 20 AND 29\n",
    "\n",
    "```"
   ]
  },
  {
   "cell_type": "markdown",
   "metadata": {},
   "source": [
    "__ORACLE__\n",
    "\n",
    "```SQL\n",
    "\n",
    "SELECT \n",
    "    COUNT(*) AS USERS\n",
    "FROM \n",
    "    USER_INFO\n",
    "WHERE\n",
    "    TO_CHAR(JOINED, 'YYYY') = '2021'\n",
    "    AND AGE BETWEEN 20 AND 29\n",
    "\n",
    "```"
   ]
  }
 ],
 "metadata": {
  "language_info": {
   "name": "python"
  }
 },
 "nbformat": 4,
 "nbformat_minor": 2
}
