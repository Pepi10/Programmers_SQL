{
 "cells": [
  {
   "cell_type": "markdown",
   "metadata": {},
   "source": [
    "### 문제\n",
    "\n",
    "* FOOD_FACTORY 테이블에서 강원도에 위치한 식품공장의 공장 ID, 공장 이름, 주소를 조회하는 SQL문을 작성해주세요. 이때 결과는 공장 ID를 기준으로 오름차순 정렬해주세요."
   ]
  },
  {
   "cell_type": "markdown",
   "metadata": {},
   "source": [
    "__MYSQL__\n",
    "\n",
    "```SQL\n",
    "\n",
    "SELECT\n",
    "    FACTORY_ID,\n",
    "    FACTORY_NAME,\n",
    "    ADDRESS\n",
    "FROM FOOD_FACTORY\n",
    "WHERE ADDRESS LIKE '강원도%'\n",
    "ORDER BY FACTORY_ID ASC;\n",
    "\n",
    "```"
   ]
  },
  {
   "cell_type": "markdown",
   "metadata": {},
   "source": [
    "__ORACLE__\n",
    "\n",
    "```SQL\n",
    "\n",
    "SELECT\n",
    "    FACTORY_ID,\n",
    "    FACTORY_NAME,\n",
    "    ADDRESS\n",
    "FROM FOOD_FACTORY\n",
    "WHERE \n",
    "    ADDRESS LIKE '강원도%'\n",
    "ORDER BY \n",
    "    FACTORY_ID ASC;\n",
    "\n",
    "```"
   ]
  }
 ],
 "metadata": {
  "language_info": {
   "name": "python"
  }
 },
 "nbformat": 4,
 "nbformat_minor": 2
}
