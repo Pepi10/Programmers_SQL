{
 "cells": [
  {
   "cell_type": "markdown",
   "metadata": {},
   "source": [
    "### 문제\n",
    "\n",
    "* 잡은 물고기의 평균 길이를 출력하는 SQL문을 작성해주세요.\n",
    "\n",
    "* 평균 길이를 나타내는 컬럼 명은 AVERAGE_LENGTH로 해주세요.\n",
    "평균 길이는 소수점 3째자리에서 반올림하며, 10cm 이하의 물고기들은 10cm 로 취급하여 평균 길이를 구해주세요."
   ]
  },
  {
   "cell_type": "markdown",
   "metadata": {},
   "source": [
    "__MYSQL__\n",
    "\n",
    "```SQL\n",
    "\n",
    "WITH BASE AS (\n",
    "    SELECT \n",
    "        *,\n",
    "        CASE\n",
    "            WHEN LENGTH IS NULL THEN 10\n",
    "            ELSE LENGTH\n",
    "        END AS FIXED_LENGTH\n",
    "    FROM FISH_INFO\n",
    ")\n",
    "\n",
    "SELECT\n",
    "    ROUND(AVG(FIXED_LENGTH), 2) AS AVERAGE_LENGTH\n",
    "FROM BASE\n",
    "\n",
    "```"
   ]
  }
 ],
 "metadata": {
  "language_info": {
   "name": "python"
  }
 },
 "nbformat": 4,
 "nbformat_minor": 2
}
