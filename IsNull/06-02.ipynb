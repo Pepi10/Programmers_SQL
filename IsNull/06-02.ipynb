{
 "cells": [
  {
   "cell_type": "markdown",
   "metadata": {},
   "source": [
    "### 문제\n",
    "\n",
    "* ROOT 아이템을 찾아 아이템 ID(ITEM_ID), 아이템 명(ITEM_NAME)을 출력하는 SQL문을 작성해 주세요. 이때, 결과는 아이템 ID를 기준으로 오름차순 정렬해 주세요."
   ]
  },
  {
   "cell_type": "markdown",
   "metadata": {},
   "source": [
    "__MYSQL__\n",
    "\n",
    "```SQL\n",
    "\n",
    "SELECT\n",
    "    T1.ITEM_ID,\n",
    "    T2.ITEM_NAME\n",
    "FROM ITEM_TREE T1\n",
    "JOIN ITEM_INFO T2\n",
    "    ON T1.ITEM_ID = T2.ITEM_ID\n",
    "WHERE\n",
    "    PARENT_ITEM_ID IS NULL\n",
    "ORDER BY\n",
    "    ITEM_ID ASC\n",
    ";\n",
    "\n",
    "```"
   ]
  }
 ],
 "metadata": {
  "language_info": {
   "name": "python"
  }
 },
 "nbformat": 4,
 "nbformat_minor": 2
}
