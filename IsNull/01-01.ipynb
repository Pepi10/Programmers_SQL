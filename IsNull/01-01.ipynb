{
 "cells": [
  {
   "cell_type": "markdown",
   "metadata": {},
   "source": [
    "### 문제\n",
    "\n",
    "* FOOD_WAREHOUSE 테이블에서 경기도에 위치한 창고의 ID, 이름, 주소, 냉동시설 여부를 조회하는 SQL문을 작성해주세요. 이때 냉동시설 여부가 NULL인 경우, 'N'으로 출력시켜 주시고 결과는 창고 ID를 기준으로 오름차순 정렬해주세요."
   ]
  },
  {
   "cell_type": "markdown",
   "metadata": {},
   "source": [
    "__MYSQL__\n",
    "\n",
    "```SQL\n",
    "\n",
    "SELECT\n",
    "    WAREHOUSE_ID,\n",
    "    WAREHOUSE_NAME,\n",
    "    ADDRESS,\n",
    "    COALESCE(FREEZER_YN, \"N\") AS FREEZER_YN\n",
    "FROM\n",
    "    FOOD_WAREHOUSE\n",
    "WHERE ADDRESS LIKE \"%경기도%\"\n",
    "ORDER BY\n",
    "    WAREHOUSE_ID ASC\n",
    ";\n",
    "\n",
    "```"
   ]
  }
 ],
 "metadata": {
  "language_info": {
   "name": "python"
  }
 },
 "nbformat": 4,
 "nbformat_minor": 2
}
