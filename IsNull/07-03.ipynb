{
 "cells": [
  {
   "cell_type": "markdown",
   "metadata": {},
   "source": [
    "### 문제\n",
    "\n",
    "* 더 이상 업그레이드할 수 없는 아이템의 아이템 ID(ITEM_ID), 아이템 명(ITEM_NAME), 아이템의 희귀도(RARITY)를 출력하는 SQL 문을 작성해 주세요. 이때 결과는 아이템 ID를 기준으로 내림차순 정렬해 주세요."
   ]
  },
  {
   "cell_type": "markdown",
   "metadata": {},
   "source": [
    "__MYSQL__\n",
    "\n",
    "```SQL\n",
    "\n",
    "SELECT\n",
    "    ITEM_ID,\n",
    "    ITEM_NAME,\n",
    "    RARITY\n",
    "FROM ITEM_INFO T1\n",
    "WHERE\n",
    "    ITEM_ID NOT IN \n",
    "    (SELECT\n",
    "        PARENT_ITEM_ID\n",
    "    FROM ITEM_TREE\n",
    "    WHERE\n",
    "        PARENT_ITEM_ID IS NOT NULL\n",
    "    )\n",
    "ORDER BY\n",
    "    ITEM_ID DESC\n",
    ";\n",
    "\n",
    "```"
   ]
  }
 ],
 "metadata": {
  "language_info": {
   "name": "python"
  }
 },
 "nbformat": 4,
 "nbformat_minor": 2
}
