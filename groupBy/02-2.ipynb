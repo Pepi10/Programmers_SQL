{
 "cells": [
  {
   "cell_type": "markdown",
   "metadata": {},
   "source": [
    "### 문제\n",
    "\n",
    "* CAR_RENTAL_COMPANY_CAR 테이블에서 '통풍시트', '열선시트', '가죽시트' 중 하나 이상의 옵션이 포함된 자동차가 자동차 종류 별로 몇 대인지 출력하는 SQL문을 작성해주세요. 이때 자동차 수에 대한 컬럼명은 CARS로 지정하고, 결과는 자동차 종류를 기준으로 오름차순 정렬해주세요."
   ]
  },
  {
   "cell_type": "markdown",
   "metadata": {},
   "source": [
    "__MYSQL__\n",
    "\n",
    "```SQL\n",
    "\n",
    "SELECT\n",
    "    CAR_TYPE,\n",
    "    COUNT(OPTIONS) AS CARS\n",
    "FROM\n",
    "    CAR_RENTAL_COMPANY_CAR\n",
    "WHERE\n",
    "    OPTIONS LIKE '%통풍시트%'\n",
    "    OR OPTIONS LIKE '%열선시트%'\n",
    "    OR OPTIONS LIKE '%가죽시트%'\n",
    "GROUP BY\n",
    "    CAR_TYPE\n",
    "ORDER BY\n",
    "    CAR_TYPE ASC;\n",
    "\n",
    "```"
   ]
  }
 ],
 "metadata": {
  "language_info": {
   "name": "python"
  }
 },
 "nbformat": 4,
 "nbformat_minor": 2
}
