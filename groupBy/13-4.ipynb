{
 "cells": [
  {
   "cell_type": "markdown",
   "metadata": {},
   "source": [
    "### 문제\n",
    "\n",
    "* USER_INFO 테이블과 ONLINE_SALE 테이블에서 년, 월, 성별 별로 상품을 구매한 회원수를 집계하는 SQL문을 작성해주세요. 결과는 년, 월, 성별을 기준으로 오름차순 정렬해주세요. 이때, 성별 정보가 없는 경우 결과에서 제외해주세요."
   ]
  },
  {
   "cell_type": "markdown",
   "metadata": {},
   "source": [
    "__MYSQL__\n",
    "\n",
    "```SQL\n",
    "\n",
    "SELECT\n",
    "    YEAR(SALES_DATE) AS YEAR,\n",
    "    MONTH(SALES_DATE) AS MONTH,\n",
    "    GENDER,\n",
    "    COUNT(DISTINCT USER_INFO.USER_ID) AS USERS\n",
    "FROM ONLINE_SALE \n",
    "JOIN USER_INFO\n",
    "    ON ONLINE_SALE.USER_ID = USER_INFO.USER_ID\n",
    "WHERE\n",
    "    USER_INFO.GENDER IS NOT NULL\n",
    "GROUP BY\n",
    "    YEAR(SALES_DATE),\n",
    "    MONTH(SALES_DATE),\n",
    "    GENDER\n",
    "ORDER BY\n",
    "    YEAR ASC,\n",
    "    MONTH ASC,\n",
    "    GENDER ASC\n",
    ";\n",
    "\n",
    "```"
   ]
  }
 ],
 "metadata": {
  "language_info": {
   "name": "python"
  }
 },
 "nbformat": 4,
 "nbformat_minor": 2
}
