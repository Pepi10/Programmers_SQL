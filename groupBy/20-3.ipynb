{
 "cells": [
  {
   "cell_type": "markdown",
   "metadata": {},
   "source": [
    "### 문제\n",
    "\n",
    "* HR_DEPARTMENT와 HR_EMPLOYEES 테이블을 이용해 부서별 평균 연봉을 조회하려 합니다. 부서별로 부서 ID, 영문 부서명, 평균 연봉을 조회하는 SQL문을 작성해주세요.\n",
    "\n",
    "* 평균연봉은 소수점 첫째 자리에서 반올림하고 컬럼명은 AVG_SAL로 해주세요.\n",
    "결과는 부서별 평균 연봉을 기준으로 내림차순 정렬해주세요."
   ]
  },
  {
   "cell_type": "markdown",
   "metadata": {},
   "source": [
    "__MYSQL__\n",
    "\n",
    "```SQL\n",
    "\n",
    "SELECT\n",
    "    T1.DEPT_ID,\n",
    "    T1.DEPT_NAME_EN,\n",
    "    ROUND(AVG(T2.SAL), 0) AS AVG_SAL\n",
    "FROM HR_DEPARTMENT T1\n",
    "JOIN HR_EMPLOYEES T2\n",
    "    ON T1.DEPT_ID = T2.DEPT_ID\n",
    "GROUP BY\n",
    "    T1.DEPT_ID\n",
    "ORDER BY\n",
    "    AVG_SAL DESC\n",
    ";\n",
    "\n",
    "```"
   ]
  }
 ],
 "metadata": {
  "language_info": {
   "name": "python"
  }
 },
 "nbformat": 4,
 "nbformat_minor": 2
}
