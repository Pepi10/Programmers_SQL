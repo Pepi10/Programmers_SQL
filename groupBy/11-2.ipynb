{
 "cells": [
  {
   "cell_type": "markdown",
   "metadata": {},
   "source": [
    "### 문제\n",
    "\n",
    "* 동물 보호소에 들어온 동물 중 고양이와 개가 각각 몇 마리인지 조회하는 SQL문을 작성해주세요. 이때 고양이를 개보다 먼저 조회해주세요."
   ]
  },
  {
   "cell_type": "markdown",
   "metadata": {},
   "source": [
    "__MYSQL__\n",
    "\n",
    "```SQL\n",
    "\n",
    "SELECT\n",
    "    ANIMAL_TYPE,\n",
    "    COUNT(*) AS COUNT\n",
    "FROM\n",
    "    ANIMAL_INS\n",
    "WHERE\n",
    "    ANIMAL_TYPE IN ('Cat', 'Dog')\n",
    "GROUP BY\n",
    "    ANIMAL_TYPE\n",
    "ORDER BY\n",
    "    ANIMAL_TYPE ASC\n",
    ";\n",
    "\n",
    "```"
   ]
  }
 ],
 "metadata": {
  "language_info": {
   "name": "python"
  }
 },
 "nbformat": 4,
 "nbformat_minor": 2
}
