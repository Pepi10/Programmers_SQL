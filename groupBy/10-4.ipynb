{
 "cells": [
  {
   "cell_type": "markdown",
   "metadata": {},
   "source": [
    "### 문제\n",
    "\n",
    "* FOOD_PRODUCT 테이블에서 식품분류별로 가격이 제일 비싼 식품의 분류, 가격, 이름을 조회하는 SQL문을 작성해주세요. 이때 식품분류가 '과자', '국', '김치', '식용유'인 경우만 출력시켜 주시고 결과는 식품 가격을 기준으로 내림차순 정렬해주세요."
   ]
  },
  {
   "cell_type": "markdown",
   "metadata": {},
   "source": [
    "__MYSQL__\n",
    "\n",
    "```SQL\n",
    "\n",
    "WITH MAX_PRI AS (\n",
    "    SELECT\n",
    "        CATEGORY,\n",
    "        MAX(PRICE) AS PRICE\n",
    "    FROM\n",
    "        FOOD_PRODUCT\n",
    "    GROUP BY\n",
    "        CATEGORY\n",
    ")\n",
    "SELECT\n",
    "    T1.CATEGORY,\n",
    "    T1.PRICE AS MAX_PRICE,\n",
    "    T1.PRODUCT_NAME\n",
    "FROM\n",
    "    FOOD_PRODUCT T1\n",
    "JOIN MAX_PRI T2\n",
    "    ON T1.CATEGORY = T2.CATEGORY \n",
    "    AND T1.PRICE = T2.PRICE\n",
    "WHERE\n",
    "    T1.CATEGORY IN ('과자', '국', '김치', '식용유')\n",
    "ORDER BY\n",
    "    MAX_PRICE DESC\n",
    ";\n",
    "\n",
    "```"
   ]
  }
 ],
 "metadata": {
  "language_info": {
   "name": "python"
  }
 },
 "nbformat": 4,
 "nbformat_minor": 2
}
