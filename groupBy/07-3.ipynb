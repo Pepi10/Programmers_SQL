{
 "cells": [
  {
   "cell_type": "markdown",
   "metadata": {},
   "source": [
    "### 문제\n",
    "\n",
    "* CAR_RENTAL_COMPANY_RENTAL_HISTORY 테이블에서 2022년 10월 16일에 대여 중인 자동차인 경우 '대여중' 이라고 표시하고, 대여 중이지 않은 자동차인 경우 '대여 가능'을 표시하는 컬럼(컬럼명: AVAILABILITY)을 추가하여 자동차 ID와 AVAILABILITY 리스트를 출력하는 SQL문을 작성해주세요. 이때 반납 날짜가 2022년 10월 16일인 경우에도 '대여중'으로 표시해주시고 결과는 자동차 ID를 기준으로 내림차순 정렬해주세요."
   ]
  },
  {
   "cell_type": "markdown",
   "metadata": {},
   "source": [
    "__MYSQL__\n",
    "\n",
    "```SQL\n",
    "\n",
    "WITH RENTING_LIST AS (\n",
    "    SELECT\n",
    "        CAR_ID\n",
    "    FROM\n",
    "        CAR_RENTAL_COMPANY_RENTAL_HISTORY\n",
    "    WHERE\n",
    "        '2022-10-16' BETWEEN DATE_FORMAT(START_DATE, '%Y-%m-%d') AND DATE_FORMAT(END_DATE, '%Y-%m-%d')\n",
    ")\n",
    "\n",
    "SELECT\n",
    "    T1.CAR_ID,\n",
    "    CASE\n",
    "        WHEN T1.CAR_ID = T2.CAR_ID THEN '대여중'\n",
    "        ELSE '대여 가능'\n",
    "        END AS AVAILABILITY\n",
    "FROM\n",
    "    CAR_RENTAL_COMPANY_RENTAL_HISTORY T1\n",
    "LEFT JOIN\n",
    "    RENTING_LIST T2\n",
    "    ON T1.CAR_ID = T2.CAR_ID\n",
    "GROUP BY \n",
    "    T1.CAR_ID\n",
    "ORDER BY\n",
    "    CAR_ID DESC\n",
    ";\n",
    "\n",
    "```"
   ]
  }
 ],
 "metadata": {
  "language_info": {
   "name": "python"
  }
 },
 "nbformat": 4,
 "nbformat_minor": 2
}
