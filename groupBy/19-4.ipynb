{
 "cells": [
  {
   "cell_type": "markdown",
   "metadata": {},
   "source": [
    "### 문제\n",
    "\n",
    "* HR_DEPARTMENT, HR_EMPLOYEES, HR_GRADE 테이블을 이용해 사원별 성과금 정보를 조회하려합니다. 평가 점수별 등급과 등급에 따른 성과금 정보가 아래와 같을 때, 사번, 성명, 평가 등급, 성과금을 조회하는 SQL문을 작성해주세요.\n",
    "\n",
    "* 평가등급의 컬럼명은 GRADE로, 성과금의 컬럼명은 BONUS로 해주세요.\n",
    "결과는 사번 기준으로 오름차순 정렬해주세요."
   ]
  },
  {
   "cell_type": "markdown",
   "metadata": {},
   "source": [
    "__MYSQL__\n",
    "\n",
    "\n",
    "```SQL \n",
    "\n",
    "WITH BASE AS (\n",
    "    SELECT\n",
    "        EMP_NO,\n",
    "        AVG(SCORE) AS SCORE\n",
    "    FROM HR_GRADE\n",
    "    GROUP BY\n",
    "        EMP_NO\n",
    ")\n",
    "SELECT\n",
    "    T1.EMP_NO,\n",
    "    T1.EMP_NAME,\n",
    "    CASE\n",
    "        WHEN T2.SCORE >= 96 THEN 'S'\n",
    "        WHEN T2.SCORE >= 90 THEN 'A'\n",
    "        WHEN T2.SCORE >= 80 THEN 'B'\n",
    "        ELSE 'C'\n",
    "    END AS GRADE,\n",
    "    CASE\n",
    "        WHEN T2.SCORE >= 96 THEN T1.SAL * 0.2\n",
    "        WHEN T2.SCORE >= 90 THEN T1.SAL * 0.15\n",
    "        WHEN T2.SCORE >= 80 THEN T1.SAL * 0.1\n",
    "        ELSE 0\n",
    "    END AS BONUS\n",
    "FROM HR_EMPLOYEES T1\n",
    "JOIN BASE T2\n",
    "    ON T1.EMP_NO = T2.EMP_NO\n",
    "ORDER BY\n",
    "    EMP_NO ASC\n",
    ";\n",
    "\n",
    "```"
   ]
  }
 ],
 "metadata": {
  "language_info": {
   "name": "python"
  }
 },
 "nbformat": 4,
 "nbformat_minor": 2
}
