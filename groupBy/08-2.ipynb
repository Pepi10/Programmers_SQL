{
 "cells": [
  {
   "cell_type": "markdown",
   "metadata": {},
   "source": [
    "### 문제\n",
    "\n",
    "* APPOINTMENT 테이블에서 2022년 5월에 예약한 환자 수를 진료과코드 별로 조회하는 SQL문을 작성해주세요. 이때, 컬럼명은 '진료과 코드', '5월예약건수'로 지정해주시고 결과는 진료과별 예약한 환자 수를 기준으로 오름차순 정렬하고, 예약한 환자 수가 같다면 진료과 코드를 기준으로 오름차순 정렬해주세요."
   ]
  },
  {
   "cell_type": "markdown",
   "metadata": {},
   "source": [
    "__MYSQL__\n",
    "\n",
    "```SQL\n",
    "\n",
    "SELECT\n",
    "    MCDP_CD AS '진료과 코드',\n",
    "    COUNT(*) AS '5월 예약건수'\n",
    "FROM\n",
    "    APPOINTMENT\n",
    "WHERE\n",
    "    YEAR(APNT_YMD) = 2022\n",
    "    AND MONTH(APNT_YMD) = 05\n",
    "GROUP BY\n",
    "    MCDP_CD\n",
    "ORDER BY \n",
    "    COUNT(*) ASC,\n",
    "    MCDP_CD ASC\n",
    ";\n",
    "\n",
    "```"
   ]
  }
 ],
 "metadata": {
  "language_info": {
   "name": "python"
  }
 },
 "nbformat": 4,
 "nbformat_minor": 2
}
