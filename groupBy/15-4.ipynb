{
 "cells": [
  {
   "cell_type": "markdown",
   "metadata": {},
   "source": [
    "### 문제\n",
    "\n",
    "* 보호소에서는 몇 시에 입양이 가장 활발하게 일어나는지 알아보려 합니다. 0시부터 23시까지, 각 시간대별로 입양이 몇 건이나 발생했는지 조회하는 SQL문을 작성해주세요. 이때 결과는 시간대 순으로 정렬해야 합니다."
   ]
  },
  {
   "cell_type": "markdown",
   "metadata": {},
   "source": [
    "__MYSQL__\n",
    "\n",
    "```SQL\n",
    "\n",
    "WITH RECURSIVE BASE(N) AS (\n",
    "    SELECT 0\n",
    "    \n",
    "    UNION ALL\n",
    "    \n",
    "    SELECT N+1\n",
    "    FROM BASE \n",
    "    WHERE \n",
    "        N < 23\n",
    "),\n",
    "    GROUP_AN_OUTS AS (\n",
    "    SELECT\n",
    "        HOUR(DATETIME) AS HOUR,\n",
    "        COUNT(*) AS COUNT    \n",
    "    FROM\n",
    "        ANIMAL_OUTS\n",
    "    GROUP BY\n",
    "        HOUR(DATETIME)\n",
    "    ORDER BY\n",
    "        HOUR ASC\n",
    ")\n",
    "\n",
    "SELECT\n",
    "    T1.N AS HOUR,\n",
    "    COALESCE(T2.COUNT, 0) AS COUNT\n",
    "FROM \n",
    "    BASE T1\n",
    "LEFT JOIN\n",
    "    GROUP_AN_OUTS T2\n",
    "ON T1.N = T2.HOUR\n",
    "\n",
    "```"
   ]
  }
 ],
 "metadata": {
  "language_info": {
   "name": "python"
  }
 },
 "nbformat": 4,
 "nbformat_minor": 2
}
