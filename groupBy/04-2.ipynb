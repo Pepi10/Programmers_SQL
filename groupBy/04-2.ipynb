{
 "cells": [
  {
   "cell_type": "markdown",
   "metadata": {},
   "source": [
    "### 문제\n",
    "\n",
    "* 상반기 동안 각 아이스크림 성분 타입과 성분 타입에 대한 아이스크림의 총주문량을 총주문량이 작은 순서대로 조회하는 SQL 문을 작성해주세요. 이때 총주문량을 나타내는 컬럼명은 TOTAL_ORDER로 지정해주세요."
   ]
  },
  {
   "cell_type": "markdown",
   "metadata": {},
   "source": [
    "__MYSQL__\n",
    "\n",
    "```SQL\n",
    "\n",
    "SELECT\n",
    "    INGREDIENT_TYPE,\n",
    "    SUM(TOTAL_ORDER) AS TOTAL_ORDER\n",
    "FROM\n",
    "    FIRST_HALF T1\n",
    "JOIN ICECREAM_INFO T2\n",
    "    ON T1.FLAVOR = T2.FLAVOR\n",
    "GROUP BY\n",
    "    INGREDIENT_TYPE\n",
    "\n",
    "```"
   ]
  }
 ],
 "metadata": {
  "language_info": {
   "name": "python"
  }
 },
 "nbformat": 4,
 "nbformat_minor": 2
}
