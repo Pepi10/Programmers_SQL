{
 "cells": [
  {
   "cell_type": "markdown",
   "metadata": {},
   "source": [
    "### 문제\n",
    "\n",
    "* FISH_INFO에서 평균 길이가 33cm 이상인 물고기들을 종류별로 분류하여 잡은 수, 최대 길이, 물고기의 종류를 출력하는 SQL문을 작성해주세요. 결과는 물고기 종류에 대해 오름차순으로 정렬해주시고, 10cm이하의 물고기들은 10cm로 취급하여 평균 길이를 구해주세요.\n",
    "\n",
    "* 컬럼명은 물고기의 종류 'FISH_TYPE', 잡은 수 'FISH_COUNT', 최대 길이 'MAX_LENGTH'로 해주세요."
   ]
  },
  {
   "cell_type": "markdown",
   "metadata": {},
   "source": [
    "__MYSQL__\n",
    "\n",
    "```SQL\n",
    "\n",
    "WITH FIXED_INFO AS (\n",
    "SELECT *,\n",
    "    CASE\n",
    "        WHEN LENGTH <= 10 THEN 10\n",
    "        WHEN LENGTH IS NULL THEN 10\n",
    "        ELSE LENGTH\n",
    "    END AS FIXED_LENGTH\n",
    "FROM FISH_INFO\n",
    ")\n",
    "SELECT\n",
    "    COUNT(ID) AS FISH_COUNT,\n",
    "    MAX(LENGTH) AS MAX_LENGTH,\n",
    "    FISH_TYPE\n",
    "FROM FIXED_INFO\n",
    "GROUP BY \n",
    "    FISH_TYPE\n",
    "HAVING\n",
    "    AVG(FIXED_LENGTH) >= 33\n",
    "ORDER BY\n",
    "    FISH_TYPE ASC\n",
    ";\n",
    "\n",
    "```"
   ]
  }
 ],
 "metadata": {
  "language_info": {
   "name": "python"
  }
 },
 "nbformat": 4,
 "nbformat_minor": 2
}
