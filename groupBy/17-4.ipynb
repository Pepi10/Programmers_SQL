{
 "cells": [
  {
   "cell_type": "markdown",
   "metadata": {},
   "source": [
    "### 문제\n",
    "\n",
    "* DEVELOPERS 테이블에서 GRADE별 개발자의 정보를 조회하려 합니다. GRADE는 다음과 같이 정해집니다.\n",
    "* A : Front End 스킬과 Python 스킬을 함께 가지고 있는 개발자\n",
    "* B : C# 스킬을 가진 개발자\n",
    "* C : 그 외의 Front End 개발자\n",
    "* GRADE가 존재하는 개발자의 GRADE, ID, EMAIL을 조회하는 SQL 문을 작성해 주세요.\n",
    "* 결과는 GRADE와 ID를 기준으로 오름차순 정렬해 주세요."
   ]
  },
  {
   "cell_type": "markdown",
   "metadata": {
    "vscode": {
     "languageId": "plaintext"
    }
   },
   "source": [
    "__MYSQL__ INTUITIVE VERSION\n",
    "\n",
    "```SQL\n",
    "\n",
    "WITH BASE AS (\n",
    "    SELECT \n",
    "        T1.ID, \n",
    "        T1.EMAIL, \n",
    "        GROUP_CONCAT(T2.NAME, ',' , T2.CATEGORY) AS COMBINED\n",
    "    FROM \n",
    "        DEVELOPERS T1\n",
    "    JOIN \n",
    "        SKILLCODES T2\n",
    "        ON (T1.SKILL_CODE & T2.CODE) = T2.CODE\n",
    "    GROUP BY\n",
    "        T1.ID,\n",
    "        T1.EMAIL\n",
    ")\n",
    "\n",
    "SELECT \n",
    "    CASE\n",
    "        WHEN COMBINED LIKE '%Python%' AND  COMBINED LIKE '%Front End%' THEN 'A'\n",
    "        WHEN COMBINED LIKE '%C#%' THEN 'B'\n",
    "        WHEN COMBINED LIKE '%Front End%' THEN 'C'\n",
    "    END AS GRADE,\n",
    "    ID,\n",
    "    EMAIL\n",
    "FROM BASE\n",
    "HAVING GRADE IS NOT NULL\n",
    "ORDER BY \n",
    "    GRADE ASC,\n",
    "    ID ASC\n",
    ";\n",
    "\n",
    "```"
   ]
  },
  {
   "cell_type": "markdown",
   "metadata": {},
   "source": [
    "__MYSQL__\n",
    "\n",
    "```SQL\n",
    "\n",
    "WITH BASE AS (\n",
    "    SELECT\n",
    "        T1.ID,\n",
    "        T1.EMAIL,\n",
    "        T2.NAME,\n",
    "        T2.CATEGORY,\n",
    "        CASE\n",
    "            WHEN T2.NAME = 'Python' OR T2.CATEGORY = 'Front End' THEN 1\n",
    "    END AS MK_A\n",
    "    FROM DEVELOPERS T1\n",
    "    JOIN SKILLCODES T2\n",
    "        ON (T1.SKILL_CODE & T2.CODE) = T2.CODE\n",
    "),\n",
    " A_ID AS (\n",
    "    SELECT\n",
    "        ID\n",
    "    FROM BASE\n",
    "    GROUP BY\n",
    "        ID\n",
    "    HAVING\n",
    "        SUM(MK_A) >= 2\n",
    ")\n",
    "\n",
    "SELECT DISTINCT\n",
    "    CASE\n",
    "        WHEN BASE.ID = A_ID.ID THEN 'A'\n",
    "        WHEN BASE.NAME = 'C#' THEN 'B'\n",
    "        WHEN BASE.CATEGORY = 'Front End' THEN 'C'\n",
    "    END AS GRADE,\n",
    "    BASE.ID,\n",
    "    BASE.EMAIL\n",
    "FROM BASE\n",
    "LEFT JOIN A_ID\n",
    "    ON BASE.ID = A_ID.ID\n",
    "HAVING \n",
    "    GRADE IS NOT NULL\n",
    "ORDER BY \n",
    "    GRADE ASC,\n",
    "    ID ASC\n",
    ";\n",
    "\n",
    "```"
   ]
  }
 ],
 "metadata": {
  "language_info": {
   "name": "python"
  }
 },
 "nbformat": 4,
 "nbformat_minor": 2
}
