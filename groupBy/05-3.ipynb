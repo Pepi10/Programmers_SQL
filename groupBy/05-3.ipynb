{
 "cells": [
  {
   "cell_type": "markdown",
   "metadata": {},
   "source": [
    "### 문제\n",
    "\n",
    "* REST_INFO 테이블에서 음식종류별로 즐겨찾기수가 가장 많은 식당의 음식 종류, ID, 식당 이름, 즐겨찾기수를 조회하는 SQL문을 작성해주세요. 이때 결과는 음식 종류를 기준으로 내림차순 정렬해주세요."
   ]
  },
  {
   "cell_type": "markdown",
   "metadata": {},
   "source": [
    "__MYSQL__\n",
    "\n",
    "```SQL\n",
    "\n",
    "WITH MAX_FAVOR AS (    \n",
    "    SELECT\n",
    "        FOOD_TYPE,\n",
    "        MAX(FAVORITES) AS FAVORITES\n",
    "    FROM\n",
    "        REST_INFO\n",
    "    GROUP BY\n",
    "        FOOD_TYPE\n",
    ")\n",
    "\n",
    "SELECT\n",
    "    T1.FOOD_TYPE,\n",
    "    T1.REST_ID,\n",
    "    T1.REST_NAME,\n",
    "    T1.FAVORITES\n",
    "FROM\n",
    "    REST_INFO T1\n",
    "JOIN\n",
    "    MAX_FAVOR T2\n",
    "    ON T1.FOOD_TYPE = T2.FOOD_TYPE\n",
    "    AND T1.FAVORITES = T2.FAVORITES\n",
    "ORDER BY\n",
    "    FOOD_TYPE DESC\n",
    ";\n",
    "\n",
    "```"
   ]
  }
 ],
 "metadata": {
  "language_info": {
   "name": "python"
  }
 },
 "nbformat": 4,
 "nbformat_minor": 2
}
