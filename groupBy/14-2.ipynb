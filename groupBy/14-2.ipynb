{
 "cells": [
  {
   "cell_type": "markdown",
   "metadata": {},
   "source": [
    "### 문제\n",
    "\n",
    "* 보호소에서는 몇 시에 입양이 가장 활발하게 일어나는지 알아보려 합니다. 09:00부터 19:59까지, 각 시간대별로 입양이 몇 건이나 발생했는지 조회하는 SQL문을 작성해주세요. 이때 결과는 시간대 순으로 정렬해야 합니다."
   ]
  },
  {
   "cell_type": "markdown",
   "metadata": {},
   "source": [
    "__MYSQL__\n",
    "\n",
    "```SQL\n",
    "\n",
    "SELECT\n",
    "    HOUR(DATETIME) AS HOUR,\n",
    "    COUNT(ANIMAL_ID) AS COUNT\n",
    "FROM\n",
    "    ANIMAL_OUTS\n",
    "GROUP BY\n",
    "    HOUR(DATETIME)\n",
    "HAVING\n",
    "    HOUR BETWEEN 9 AND 19\n",
    "ORDER BY\n",
    "    HOUR ASC\n",
    ";\n",
    "\n",
    "```"
   ]
  }
 ],
 "metadata": {
  "language_info": {
   "name": "python"
  }
 },
 "nbformat": 4,
 "nbformat_minor": 2
}
