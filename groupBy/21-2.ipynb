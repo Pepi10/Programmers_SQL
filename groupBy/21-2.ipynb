{
 "cells": [
  {
   "cell_type": "markdown",
   "metadata": {},
   "source": [
    "### 문제\n",
    "\n",
    "* SUBWAY_DISTANCE 테이블에서 노선별로 노선, 총 누계 거리, 평균 역 사이 거리를 노선별로 조회하는 SQL문을 작성해주세요.\n",
    "\n",
    "* 총 누계거리는 테이블 내 존재하는 역들의 역 사이 거리의 총 합을 뜻합니다. 총 누계 거리와 평균 역 사이 거리의 컬럼명은 각각 TOTAL_DISTANCE, AVERAGE_DISTANCE로 해주시고, 총 누계거리는 소수 둘째자리에서, 평균 역 사이 거리는 소수 셋째 자리에서 반올림 한 뒤 단위(km)를 함께 출력해주세요.\n",
    "* 결과는 총 누계 거리를 기준으로 내림차순 정렬해주세요."
   ]
  },
  {
   "cell_type": "markdown",
   "metadata": {},
   "source": [
    "__MYSQL__\n",
    "\n",
    "```SQL\n",
    "\n",
    "SELECT\n",
    "    ROUTE,\n",
    "    CONCAT(ROUND(SUM(D_BETWEEN_DIST), 1), 'km') AS TOTAL_DISTANCE,\n",
    "    CONCAT(ROUND(AVG(D_BETWEEN_DIST), 2), 'km') AS AVERAGE_DISTANCE\n",
    "FROM SUBWAY_DISTANCE\n",
    "GROUP BY\n",
    "    ROUTE\n",
    "ORDER BY\n",
    "    ROUND(SUM(D_BETWEEN_DIST), 1) DESC\n",
    ";\n",
    "\n",
    "```"
   ]
  }
 ],
 "metadata": {
  "language_info": {
   "name": "python"
  }
 },
 "nbformat": 4,
 "nbformat_minor": 2
}
