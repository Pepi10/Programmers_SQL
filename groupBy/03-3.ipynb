{
 "cells": [
  {
   "cell_type": "markdown",
   "metadata": {},
   "source": [
    "### 문제\n",
    "\n",
    "* CAR_RENTAL_COMPANY_RENTAL_HISTORY 테이블에서 대여 시작일을 기준으로 2022년 8월부터 2022년 10월까지 총 대여 횟수가 5회 이상인 자동차들에 대해서 해당 기간 동안의 월별 자동차 ID 별 총 대여 횟수(컬럼명: RECORDS) 리스트를 출력하는 SQL문을 작성해주세요. 결과는 월을 기준으로 오름차순 정렬하고, 월이 같다면 자동차 ID를 기준으로 내림차순 정렬해주세요. 특정 월의 총 대여 횟수가 0인 경우에는 결과에서 제외해주세요."
   ]
  },
  {
   "cell_type": "markdown",
   "metadata": {},
   "source": [
    "__MYSQL__\n",
    "\n",
    "```SQL\n",
    "\n",
    "WITH CAR_COUNT AS (\n",
    "    SELECT\n",
    "        CAR_ID,\n",
    "        COUNT(CAR_ID)AS RECORDS\n",
    "    FROM\n",
    "        CAR_RENTAL_COMPANY_RENTAL_HISTORY\n",
    "    WHERE\n",
    "        MONTH(START_DATE) BETWEEN 08 AND 10\n",
    "    GROUP BY\n",
    "        CAR_ID\n",
    ")\n",
    "SELECT\n",
    "    MONTH(T1.START_DATE) AS MONTH,\n",
    "    T1.CAR_ID,\n",
    "    COUNT(T1.CAR_ID) AS RECORDS\n",
    "FROM\n",
    "    CAR_RENTAL_COMPANY_RENTAL_HISTORY T1\n",
    "JOIN\n",
    "    CAR_COUNT T2\n",
    "    ON T1.CAR_ID = T2.CAR_ID\n",
    "WHERE\n",
    "    T2.RECORDS >= 5 AND \n",
    "    MONTH(START_DATE) IN (08, 09, 10)\n",
    "GROUP BY\n",
    "    T1.CAR_ID,\n",
    "    MONTH(T1.START_DATE)\n",
    "ORDER BY\n",
    "    MONTH ASC,\n",
    "    CAR_ID DESC;\n",
    "\n",
    "```"
   ]
  }
 ],
 "metadata": {
  "language_info": {
   "name": "python"
  }
 },
 "nbformat": 4,
 "nbformat_minor": 2
}
