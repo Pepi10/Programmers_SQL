{
 "cells": [
  {
   "cell_type": "markdown",
   "metadata": {},
   "source": [
    "### 문제\n",
    "\n",
    "* 월별 잡은 물고기의 수와 월을 출력하는 SQL문을 작성해주세요.\n",
    "\n",
    "* 잡은 물고기 수 컬럼명은 FISH_COUNT, 월 컬럼명은 MONTH로 해주세요.\n",
    "결과는 월을 기준으로 오름차순 정렬해주세요.\n",
    "단, 월은 숫자형태 (1~12) 로 출력하며 9 이하의 숫자는 두 자리로 출력하지 않습니다. 잡은 물고기가 없는 월은 출력하지 않습니다."
   ]
  },
  {
   "cell_type": "markdown",
   "metadata": {},
   "source": [
    "__MYSQL__\n",
    "\n",
    "```SQL\n",
    "\n",
    "SELECT\n",
    "    COUNT(*) AS FISH_COUNT,\n",
    "    MONTH(TIME) AS MONTH\n",
    "FROM FISH_INFO\n",
    "GROUP BY\n",
    "    MONTH(TIME)\n",
    "ORDER BY\n",
    "    MONTH ASC\n",
    ";\n",
    "\n",
    "```"
   ]
  }
 ],
 "metadata": {
  "language_info": {
   "name": "python"
  }
 },
 "nbformat": 4,
 "nbformat_minor": 2
}
