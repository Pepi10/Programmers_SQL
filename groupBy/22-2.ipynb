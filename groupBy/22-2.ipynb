{
 "cells": [
  {
   "cell_type": "markdown",
   "metadata": {},
   "source": [
    "### 문제\n",
    "\n",
    "* FISH_NAME_INFO에서 물고기의 종류 별 물고기의 이름과 잡은 수를 출력하는 SQL문을 작성해주세요.\n",
    "\n",
    "* 물고기의 이름 컬럼명은 FISH_NAME, 잡은 수 컬럼명은 FISH_COUNT로 해주세요.\n",
    "* 결과는 잡은 수 기준으로 내림차순 정렬해주세요."
   ]
  },
  {
   "cell_type": "markdown",
   "metadata": {},
   "source": [
    "__MYSQL__\n",
    "\n",
    "```SQL\n",
    "\n",
    "SELECT\n",
    "    COUNT(*) AS FISH_COUNT,\n",
    "    FISH_NAME\n",
    "FROM FISH_NAME_INFO T1\n",
    "JOIN FISH_INFO T2\n",
    "    ON T1.FISH_TYPE = T2.FISH_TYPE\n",
    "GROUP BY\n",
    "    FISH_NAME\n",
    "ORDER BY\n",
    "    FISH_COUNT DESC\n",
    ";\n",
    "\n",
    "```"
   ]
  }
 ],
 "metadata": {
  "language_info": {
   "name": "python"
  }
 },
 "nbformat": 4,
 "nbformat_minor": 2
}
