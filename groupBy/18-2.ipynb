{
 "cells": [
  {
   "cell_type": "markdown",
   "metadata": {},
   "source": [
    "### 문제\n",
    "\n",
    "* HR_DEPARTMENT, HR_EMPLOYEES, HR_GRADE 테이블에서 2022년도 한해 평가 점수가 가장 높은 사원 정보를 조회하려 합니다. 2022년도 평가 점수가 가장 높은 사원들의 점수, 사번, 성명, 직책, 이메일을 조회하는 SQL문을 작성해주세요.\n",
    "\n",
    "* 2022년도의 평가 점수는 상,하반기 점수의 합을 의미하고, 평가 점수를 나타내는 컬럼의 이름은 SCORE로 해주세요."
   ]
  },
  {
   "cell_type": "markdown",
   "metadata": {},
   "source": [
    "__MYSQL__\n",
    "\n",
    "```sql\n",
    "\n",
    "WITH BASE AS (    \n",
    "    SELECT\n",
    "        SUM(SCORE) AS SCORE,\n",
    "        EMP_NO    \n",
    "    FROM HR_GRADE T1\n",
    "    WHERE YEAR = 2022\n",
    "    GROUP BY\n",
    "        EMP_NO\n",
    "    ORDER BY\n",
    "        SCORE DESC\n",
    "    LIMIT 1\n",
    ")\n",
    "SELECT\n",
    "    T1.SCORE,\n",
    "    T1.EMP_NO,\n",
    "    T2.EMP_NAME,\n",
    "    T2.POSITION,\n",
    "    T2.EMAIL\n",
    "FROM BASE T1\n",
    "JOIN HR_EMPLOYEES T2\n",
    "    ON T1.EMP_NO = T2.EMP_NO\n",
    "\n",
    "```"
   ]
  }
 ],
 "metadata": {
  "language_info": {
   "name": "python"
  }
 },
 "nbformat": 4,
 "nbformat_minor": 2
}
