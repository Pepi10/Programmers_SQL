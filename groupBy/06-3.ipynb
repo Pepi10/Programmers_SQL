{
 "cells": [
  {
   "cell_type": "markdown",
   "metadata": {},
   "source": [
    "### 문제\n",
    "\n",
    "* 2022년 1월의 카테고리 별 도서 판매량을 합산하고, 카테고리(CATEGORY), 총 판매량(TOTAL_SALES) 리스트를 출력하는 SQL문을 작성해주세요.\n",
    "결과는 카테고리명을 기준으로 오름차순 정렬해주세요."
   ]
  },
  {
   "cell_type": "markdown",
   "metadata": {},
   "source": [
    "__MYSQL__\n",
    "\n",
    "```SQL\n",
    "\n",
    "SELECT\n",
    "    CATEGORY,\n",
    "    SUM(SALES) AS TOTAL_SALES\n",
    "FROM\n",
    "    BOOK T1\n",
    "JOIN BOOK_SALES T2\n",
    "    ON T1.BOOK_ID = T2.BOOK_ID\n",
    "WHERE\n",
    "    YEAR(SALES_DATE) = 2022\n",
    "    AND MONTH(SALES_DATE) = 1\n",
    "GROUP BY\n",
    "    CATEGORY\n",
    "ORDER BY\n",
    "    CATEGORY ASC\n",
    ";\n",
    "\n",
    "```"
   ]
  }
 ],
 "metadata": {
  "language_info": {
   "name": "python"
  }
 },
 "nbformat": 4,
 "nbformat_minor": 2
}
