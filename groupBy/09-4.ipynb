{
 "cells": [
  {
   "cell_type": "markdown",
   "metadata": {},
   "source": [
    "### 문제\n",
    "\n",
    "* 2022년 1월의 도서 판매 데이터를 기준으로 저자 별, 카테고리 별 매출액(TOTAL_SALES = 판매량 * 판매가) 을 구하여, 저자 ID(AUTHOR_ID), 저자명(AUTHOR_NAME), 카테고리(CATEGORY), 매출액(SALES) 리스트를 출력하는 SQL문을 작성해주세요.\n",
    "* 결과는 저자 ID를 오름차순으로, 저자 ID가 같다면 카테고리를 내림차순 정렬해주세요."
   ]
  },
  {
   "cell_type": "markdown",
   "metadata": {},
   "source": [
    "__MYSQL__\n",
    "\n",
    "```SQL\n",
    "\n",
    "SELECT\n",
    "    T1.AUTHOR_ID,\n",
    "    T2.AUTHOR_NAME,\n",
    "    T1.CATEGORY,\n",
    "    SUM(T1.PRICE * T3.SALES) AS TOTAL_SALES\n",
    "FROM\n",
    "    BOOK T1\n",
    "JOIN AUTHOR T2\n",
    "    ON T1.AUTHOR_ID = T2.AUTHOR_ID\n",
    "JOIN BOOK_SALES T3\n",
    "    ON T1.BOOK_ID = T3.BOOK_ID\n",
    "WHERE\n",
    "    YEAR(SALES_DATE) = 2022\n",
    "    AND MONTH(SALES_DATE) = 01\n",
    "GROUP BY\n",
    "    T1.AUTHOR_ID,\n",
    "    T1.CATEGORY\n",
    "ORDER BY\n",
    "    T1.AUTHOR_ID ASC,\n",
    "    T1.CATEGORY DESC\n",
    ";\n",
    "\n",
    "```"
   ]
  }
 ],
 "metadata": {
  "language_info": {
   "name": "python"
  }
 },
 "nbformat": 4,
 "nbformat_minor": 2
}
