{
 "cells": [
  {
   "cell_type": "markdown",
   "metadata": {},
   "source": [
    "### 문제\n",
    "\n",
    "* USED_GOODS_BOARD와 USED_GOODS_USER 테이블에서 완료된 중고 거래의 총금액이 70만 원 이상인 사람의 회원 ID, 닉네임, 총거래금액을 조회하는 SQL문을 작성해주세요. 결과는 총거래금액을 기준으로 오름차순 정렬해주세요."
   ]
  },
  {
   "cell_type": "markdown",
   "metadata": {},
   "source": [
    "__MYSQL__\n",
    "\n",
    "```SQL\n",
    "\n",
    "WITH T2 AS (\n",
    "    SELECT\n",
    "        WRITER_ID,\n",
    "        SUM(PRICE) AS PRICE\n",
    "    FROM \n",
    "        USED_GOODS_BOARD\n",
    "    WHERE\n",
    "        STATUS = 'DONE'\n",
    "    GROUP BY\n",
    "        WRITER_ID\n",
    ")\n",
    "SELECT\n",
    "    T1.USER_ID,\n",
    "    T1.NICKNAME,\n",
    "    T2.PRICE AS TOTAL_SALES\n",
    "FROM USED_GOODS_USER T1\n",
    "JOIN T2\n",
    "    ON T2.WRITER_ID = T1.USER_ID\n",
    "WHERE\n",
    "    T2.PRICE >= 700000\n",
    "ORDER BY\n",
    "    TOTAL_SALES ASC\n",
    ";\n",
    "\n",
    "```"
   ]
  }
 ],
 "metadata": {
  "language_info": {
   "name": "python"
  }
 },
 "nbformat": 4,
 "nbformat_minor": 2
}
