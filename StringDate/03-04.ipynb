{
 "cells": [
  {
   "cell_type": "markdown",
   "metadata": {},
   "source": [
    "### 문제\n",
    "\n",
    "* CAR_RENTAL_COMPANY_CAR 테이블과 CAR_RENTAL_COMPANY_RENTAL_HISTORY 테이블과 CAR_RENTAL_COMPANY_DISCOUNT_PLAN 테이블에서 자동차 종류가 '트럭'인 자동차의 대여 기록에 대해서 대여 기록 별로 대여 금액(컬럼명: FEE)을 구하여 대여 기록 ID와 대여 금액 리스트를 출력하는 SQL문을 작성해주세요. 결과는 대여 금액을 기준으로 내림차순 정렬하고, 대여 금액이 같은 경우 대여 기록 ID를 기준으로 내림차순 정렬해주세요."
   ]
  },
  {
   "cell_type": "markdown",
   "metadata": {},
   "source": [
    "__MYSQL__\n",
    "\n",
    "```SQL\n",
    "\n",
    "WITH DIS AS (\n",
    "    SELECT *\n",
    "    FROM CAR_RENTAL_COMPANY_DISCOUNT_PLAN\n",
    "    WHERE \n",
    "        CAR_TYPE = '트럭'\n",
    ")\n",
    "SELECT DISTINCT\n",
    "    HISTORY_ID,\n",
    "    ROUND(DAILY_FEE * (DATEDIFF(END_DATE, START_DATE) + 1) * (100 - COALESCE(DISCOUNT_RATE, 0)) / 100, 0) AS FEE\n",
    "FROM CAR_RENTAL_COMPANY_CAR T1\n",
    "JOIN CAR_RENTAL_COMPANY_RENTAL_HISTORY T2\n",
    "    ON T1.CAR_ID = T2.CAR_ID\n",
    "LEFT JOIN DIS T3\n",
    "    ON T1.CAR_TYPE = T3.CAR_TYPE\n",
    "    AND T3.DURATION_TYPE\n",
    "    =\n",
    "    CASE\n",
    "        WHEN DATEDIFF(END_DATE, START_DATE) + 1 >= 90 THEN '90일 이상'\n",
    "        WHEN DATEDIFF(END_DATE, START_DATE) + 1 >= 30 THEN '30일 이상'\n",
    "        WHEN DATEDIFF(END_DATE, START_DATE) + 1 >= 7 THEN '7일 이상'\n",
    "        ELSE NULL\n",
    "     END\n",
    "WHERE \n",
    "    T1.CAR_TYPE LIKE '%트럭%'\n",
    "ORDER BY\n",
    "    FEE DESC,\n",
    "    HISTORY_ID DESC\n",
    ";\n",
    "\n",
    "```"
   ]
  }
 ],
 "metadata": {
  "language_info": {
   "name": "python"
  }
 },
 "nbformat": 4,
 "nbformat_minor": 2
}
